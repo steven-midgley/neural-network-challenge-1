{
  "cells": [
    {
      "cell_type": "markdown",
      "metadata": {
        "id": "T7ZNhGcW6q6r"
      },
      "source": [
        "# Student Loan Risk with Deep Learning"
      ]
    },
    {
      "cell_type": "code",
      "execution_count": 15,
      "metadata": {
        "id": "0otrXpJc6q6u"
      },
      "outputs": [],
      "source": [
        "# Imports\n",
        "import pandas as pd\n",
        "import tensorflow as tf\n",
        "from tensorflow.keras.layers import Dense\n",
        "from tensorflow.keras.models import Sequential\n",
        "from sklearn.model_selection import train_test_split\n",
        "from sklearn.preprocessing import StandardScaler\n",
        "from sklearn.metrics import classification_report\n",
        "from pathlib import Path"
      ]
    },
    {
      "cell_type": "markdown",
      "metadata": {},
      "source": []
    },
    {
      "cell_type": "markdown",
      "metadata": {
        "id": "OpV4Y-3Z6q6w"
      },
      "source": [
        "---\n",
        "\n",
        "## Prepare the data to be used on a neural network model"
      ]
    },
    {
      "cell_type": "markdown",
      "metadata": {
        "id": "TUuSzp2l6q6w"
      },
      "source": [
        "### Step 1: Read the `student-loans.csv` file into a Pandas DataFrame. Review the DataFrame, looking for columns that could eventually define your features and target variables.   "
      ]
    },
    {
      "cell_type": "code",
      "execution_count": 16,
      "metadata": {
        "colab": {
          "base_uri": "https://localhost:8080/",
          "height": 226
        },
        "id": "G65km1KD6q6x",
        "outputId": "93d12d8d-c415-4017-8452-5b4966e4dde5"
      },
      "outputs": [
        {
          "data": {
            "text/html": [
              "<div>\n",
              "<style scoped>\n",
              "    .dataframe tbody tr th:only-of-type {\n",
              "        vertical-align: middle;\n",
              "    }\n",
              "\n",
              "    .dataframe tbody tr th {\n",
              "        vertical-align: top;\n",
              "    }\n",
              "\n",
              "    .dataframe thead th {\n",
              "        text-align: right;\n",
              "    }\n",
              "</style>\n",
              "<table border=\"1\" class=\"dataframe\">\n",
              "  <thead>\n",
              "    <tr style=\"text-align: right;\">\n",
              "      <th></th>\n",
              "      <th>payment_history</th>\n",
              "      <th>location_parameter</th>\n",
              "      <th>stem_degree_score</th>\n",
              "      <th>gpa_ranking</th>\n",
              "      <th>alumni_success</th>\n",
              "      <th>study_major_code</th>\n",
              "      <th>time_to_completion</th>\n",
              "      <th>finance_workshop_score</th>\n",
              "      <th>cohort_ranking</th>\n",
              "      <th>total_loan_score</th>\n",
              "      <th>financial_aid_score</th>\n",
              "      <th>credit_ranking</th>\n",
              "    </tr>\n",
              "  </thead>\n",
              "  <tbody>\n",
              "    <tr>\n",
              "      <th>0</th>\n",
              "      <td>7.4</td>\n",
              "      <td>0.70</td>\n",
              "      <td>0.00</td>\n",
              "      <td>1.9</td>\n",
              "      <td>0.076</td>\n",
              "      <td>11.0</td>\n",
              "      <td>34.0</td>\n",
              "      <td>0.9978</td>\n",
              "      <td>3.51</td>\n",
              "      <td>0.56</td>\n",
              "      <td>9.4</td>\n",
              "      <td>0</td>\n",
              "    </tr>\n",
              "    <tr>\n",
              "      <th>1</th>\n",
              "      <td>7.8</td>\n",
              "      <td>0.88</td>\n",
              "      <td>0.00</td>\n",
              "      <td>2.6</td>\n",
              "      <td>0.098</td>\n",
              "      <td>25.0</td>\n",
              "      <td>67.0</td>\n",
              "      <td>0.9968</td>\n",
              "      <td>3.20</td>\n",
              "      <td>0.68</td>\n",
              "      <td>9.8</td>\n",
              "      <td>0</td>\n",
              "    </tr>\n",
              "    <tr>\n",
              "      <th>2</th>\n",
              "      <td>7.8</td>\n",
              "      <td>0.76</td>\n",
              "      <td>0.04</td>\n",
              "      <td>2.3</td>\n",
              "      <td>0.092</td>\n",
              "      <td>15.0</td>\n",
              "      <td>54.0</td>\n",
              "      <td>0.9970</td>\n",
              "      <td>3.26</td>\n",
              "      <td>0.65</td>\n",
              "      <td>9.8</td>\n",
              "      <td>0</td>\n",
              "    </tr>\n",
              "    <tr>\n",
              "      <th>3</th>\n",
              "      <td>11.2</td>\n",
              "      <td>0.28</td>\n",
              "      <td>0.56</td>\n",
              "      <td>1.9</td>\n",
              "      <td>0.075</td>\n",
              "      <td>17.0</td>\n",
              "      <td>60.0</td>\n",
              "      <td>0.9980</td>\n",
              "      <td>3.16</td>\n",
              "      <td>0.58</td>\n",
              "      <td>9.8</td>\n",
              "      <td>1</td>\n",
              "    </tr>\n",
              "    <tr>\n",
              "      <th>4</th>\n",
              "      <td>7.4</td>\n",
              "      <td>0.70</td>\n",
              "      <td>0.00</td>\n",
              "      <td>1.9</td>\n",
              "      <td>0.076</td>\n",
              "      <td>11.0</td>\n",
              "      <td>34.0</td>\n",
              "      <td>0.9978</td>\n",
              "      <td>3.51</td>\n",
              "      <td>0.56</td>\n",
              "      <td>9.4</td>\n",
              "      <td>0</td>\n",
              "    </tr>\n",
              "  </tbody>\n",
              "</table>\n",
              "</div>"
            ],
            "text/plain": [
              "   payment_history  location_parameter  stem_degree_score  gpa_ranking  \\\n",
              "0              7.4                0.70               0.00          1.9   \n",
              "1              7.8                0.88               0.00          2.6   \n",
              "2              7.8                0.76               0.04          2.3   \n",
              "3             11.2                0.28               0.56          1.9   \n",
              "4              7.4                0.70               0.00          1.9   \n",
              "\n",
              "   alumni_success  study_major_code  time_to_completion  \\\n",
              "0           0.076              11.0                34.0   \n",
              "1           0.098              25.0                67.0   \n",
              "2           0.092              15.0                54.0   \n",
              "3           0.075              17.0                60.0   \n",
              "4           0.076              11.0                34.0   \n",
              "\n",
              "   finance_workshop_score  cohort_ranking  total_loan_score  \\\n",
              "0                  0.9978            3.51              0.56   \n",
              "1                  0.9968            3.20              0.68   \n",
              "2                  0.9970            3.26              0.65   \n",
              "3                  0.9980            3.16              0.58   \n",
              "4                  0.9978            3.51              0.56   \n",
              "\n",
              "   financial_aid_score  credit_ranking  \n",
              "0                  9.4               0  \n",
              "1                  9.8               0  \n",
              "2                  9.8               0  \n",
              "3                  9.8               1  \n",
              "4                  9.4               0  "
            ]
          },
          "execution_count": 16,
          "metadata": {},
          "output_type": "execute_result"
        }
      ],
      "source": [
        "# Read the csv into a Pandas DataFrame\n",
        "file_path = \"https://static.bc-edx.com/ai/ail-v-1-0/m18/lms/datasets/student-loans.csv\"\n",
        "loans_df = pd.read_csv(file_path)\n",
        "\n",
        "# Review the DataFrame\n",
        "loans_df.head()"
      ]
    },
    {
      "cell_type": "code",
      "execution_count": 17,
      "metadata": {
        "colab": {
          "base_uri": "https://localhost:8080/"
        },
        "id": "K8ZYB8wx6q6x",
        "outputId": "b509fc34-4488-406e-e451-2069fec37371"
      },
      "outputs": [
        {
          "data": {
            "text/plain": [
              "payment_history           float64\n",
              "location_parameter        float64\n",
              "stem_degree_score         float64\n",
              "gpa_ranking               float64\n",
              "alumni_success            float64\n",
              "study_major_code          float64\n",
              "time_to_completion        float64\n",
              "finance_workshop_score    float64\n",
              "cohort_ranking            float64\n",
              "total_loan_score          float64\n",
              "financial_aid_score       float64\n",
              "credit_ranking              int64\n",
              "dtype: object"
            ]
          },
          "execution_count": 17,
          "metadata": {},
          "output_type": "execute_result"
        }
      ],
      "source": [
        "# Review the data types associated with the columns\n",
        "loans_df.dtypes"
      ]
    },
    {
      "cell_type": "code",
      "execution_count": 18,
      "metadata": {
        "colab": {
          "base_uri": "https://localhost:8080/"
        },
        "id": "9P8aX-dW75JO",
        "outputId": "63251fa8-5ac1-4112-c2f7-bc5d97ea8491"
      },
      "outputs": [
        {
          "data": {
            "text/plain": [
              "credit_ranking\n",
              "1    855\n",
              "0    744\n",
              "Name: count, dtype: int64"
            ]
          },
          "execution_count": 18,
          "metadata": {},
          "output_type": "execute_result"
        }
      ],
      "source": [
        "# Check the credit_ranking value counts\n",
        "loans_df[\"credit_ranking\"].value_counts()"
      ]
    },
    {
      "cell_type": "markdown",
      "metadata": {
        "id": "R6vbZeDH6q6y"
      },
      "source": [
        "### Step 2: Using the preprocessed data, create the features (`X`) and target (`y`) datasets. The target dataset should be defined by the preprocessed DataFrame column “credit_ranking”. The remaining columns should define the features dataset."
      ]
    },
    {
      "cell_type": "code",
      "execution_count": 19,
      "metadata": {
        "colab": {
          "base_uri": "https://localhost:8080/"
        },
        "id": "Q5eVAP5M6q6y",
        "outputId": "89728bbf-6930-4573-a126-9f1b66ed8859"
      },
      "outputs": [
        {
          "name": "stdout",
          "output_type": "stream",
          "text": [
            "0       0\n",
            "1       0\n",
            "2       0\n",
            "3       1\n",
            "4       0\n",
            "       ..\n",
            "1594    0\n",
            "1595    1\n",
            "1596    1\n",
            "1597    0\n",
            "1598    1\n",
            "Name: credit_ranking, Length: 1599, dtype: int64\n"
          ]
        }
      ],
      "source": [
        "# Define the target set y using the credit_ranking column\n",
        "Y = loans_df.credit_ranking\n",
        "\n",
        "# Display a sample of y\n",
        "print(Y)"
      ]
    },
    {
      "cell_type": "code",
      "execution_count": 20,
      "metadata": {
        "colab": {
          "base_uri": "https://localhost:8080/",
          "height": 226
        },
        "id": "IIkrD2Sn6q6z",
        "outputId": "ce07c4a3-fb81-4657-d11e-ec85ae8554c9"
      },
      "outputs": [
        {
          "name": "stdout",
          "output_type": "stream",
          "text": [
            "      payment_history  location_parameter  stem_degree_score  gpa_ranking  \\\n",
            "0                 7.4               0.700               0.00          1.9   \n",
            "1                 7.8               0.880               0.00          2.6   \n",
            "2                 7.8               0.760               0.04          2.3   \n",
            "3                11.2               0.280               0.56          1.9   \n",
            "4                 7.4               0.700               0.00          1.9   \n",
            "...               ...                 ...                ...          ...   \n",
            "1594              6.2               0.600               0.08          2.0   \n",
            "1595              5.9               0.550               0.10          2.2   \n",
            "1596              6.3               0.510               0.13          2.3   \n",
            "1597              5.9               0.645               0.12          2.0   \n",
            "1598              6.0               0.310               0.47          3.6   \n",
            "\n",
            "      alumni_success  study_major_code  time_to_completion  \\\n",
            "0              0.076              11.0                34.0   \n",
            "1              0.098              25.0                67.0   \n",
            "2              0.092              15.0                54.0   \n",
            "3              0.075              17.0                60.0   \n",
            "4              0.076              11.0                34.0   \n",
            "...              ...               ...                 ...   \n",
            "1594           0.090              32.0                44.0   \n",
            "1595           0.062              39.0                51.0   \n",
            "1596           0.076              29.0                40.0   \n",
            "1597           0.075              32.0                44.0   \n",
            "1598           0.067              18.0                42.0   \n",
            "\n",
            "      finance_workshop_score  cohort_ranking  total_loan_score  \\\n",
            "0                    0.99780            3.51              0.56   \n",
            "1                    0.99680            3.20              0.68   \n",
            "2                    0.99700            3.26              0.65   \n",
            "3                    0.99800            3.16              0.58   \n",
            "4                    0.99780            3.51              0.56   \n",
            "...                      ...             ...               ...   \n",
            "1594                 0.99490            3.45              0.58   \n",
            "1595                 0.99512            3.52              0.76   \n",
            "1596                 0.99574            3.42              0.75   \n",
            "1597                 0.99547            3.57              0.71   \n",
            "1598                 0.99549            3.39              0.66   \n",
            "\n",
            "      financial_aid_score  \n",
            "0                     9.4  \n",
            "1                     9.8  \n",
            "2                     9.8  \n",
            "3                     9.8  \n",
            "4                     9.4  \n",
            "...                   ...  \n",
            "1594                 10.5  \n",
            "1595                 11.2  \n",
            "1596                 11.0  \n",
            "1597                 10.2  \n",
            "1598                 11.0  \n",
            "\n",
            "[1599 rows x 11 columns]\n"
          ]
        }
      ],
      "source": [
        "# Define features set X by selecting all columns but credit_ranking\n",
        "X = loans_df.drop(columns=['credit_ranking'])\n",
        "\n",
        "# Review the features DataFrame\n",
        "print(X)"
      ]
    },
    {
      "cell_type": "markdown",
      "metadata": {
        "id": "QmM9c-tj6q6z"
      },
      "source": [
        "### Step 3: Split the features and target sets into training and testing datasets.\n"
      ]
    },
    {
      "cell_type": "code",
      "execution_count": 21,
      "metadata": {
        "id": "OD7xwU_96q6z"
      },
      "outputs": [],
      "source": [
        "# Split the preprocessed data into a training and testing dataset\n",
        "# Assign the function a random_state equal to 1\n",
        "X_train, X_test, y_train, y_test = train_test_split(X, Y, random_state=1)"
      ]
    },
    {
      "cell_type": "markdown",
      "metadata": {
        "id": "G9i6DHY06q6z"
      },
      "source": [
        "### Step 4: Use scikit-learn's `StandardScaler` to scale the features data."
      ]
    },
    {
      "cell_type": "code",
      "execution_count": 22,
      "metadata": {
        "id": "BzD3z20m6q6z"
      },
      "outputs": [],
      "source": [
        "# Create a StandardScaler instance\n",
        "scaler = StandardScaler()\n",
        "\n",
        "# Fit the scaler to the features training dataset\n",
        "X_train_scaled = scaler.fit(X_train)\n",
        "\n",
        "# Fit the scaler to the features training dataset\n",
        "X_test_scaled = scaler.fit(X_test)"
      ]
    },
    {
      "cell_type": "markdown",
      "metadata": {
        "id": "CZzVDjba6q6z"
      },
      "source": [
        "---\n",
        "\n",
        "## Compile and Evaluate a Model Using a Neural Network"
      ]
    },
    {
      "cell_type": "markdown",
      "metadata": {
        "id": "m-pSux4Q6q60"
      },
      "source": [
        "### Step 1: Create a deep neural network by assigning the number of input features, the number of layers, and the number of neurons on each layer using Tensorflow’s Keras.\n",
        "\n",
        "> **Hint** You can start with a two-layer deep neural network model that uses the `relu` activation function for both layers.\n"
      ]
    },
    {
      "cell_type": "code",
      "execution_count": 23,
      "metadata": {
        "colab": {
          "base_uri": "https://localhost:8080/"
        },
        "id": "t5C94FCd6q60",
        "outputId": "cbf05783-2f56-4745-cd33-649a6152e510"
      },
      "outputs": [
        {
          "name": "stdout",
          "output_type": "stream",
          "text": [
            "11\n"
          ]
        }
      ],
      "source": [
        "# Define the the number of inputs (features) to the model\n",
        "input_features = len(X_train.iloc[0])\n",
        "\n",
        "# Review the number of features\n",
        "print(input_features)\n"
      ]
    },
    {
      "cell_type": "code",
      "execution_count": 24,
      "metadata": {
        "id": "c_KXDLkF6q60"
      },
      "outputs": [],
      "source": [
        "# Define the number of hidden nodes for the first hidden layer\n",
        "first_layer = 64\n",
        "\n",
        "# Define the number of hidden nodes for the second hidden layer\n",
        "second_layer = 32\n",
        "\n",
        "# Define the number of neurons in the output layer\n",
        "neurons = 1\n"
      ]
    },
    {
      "cell_type": "code",
      "execution_count": 25,
      "metadata": {
        "id": "63UdFncw6q60"
      },
      "outputs": [
        {
          "name": "stderr",
          "output_type": "stream",
          "text": [
            "/opt/miniconda3/envs/neural_network/lib/python3.10/site-packages/keras/src/layers/core/dense.py:87: UserWarning: Do not pass an `input_shape`/`input_dim` argument to a layer. When using Sequential models, prefer using an `Input(shape)` object as the first layer in the model instead.\n",
            "  super().__init__(activity_regularizer=activity_regularizer, **kwargs)\n",
            "2024-12-21 13:35:43.492900: I metal_plugin/src/device/metal_device.cc:1154] Metal device set to: Apple M3 Max\n",
            "2024-12-21 13:35:43.492927: I metal_plugin/src/device/metal_device.cc:296] systemMemory: 48.00 GB\n",
            "2024-12-21 13:35:43.492931: I metal_plugin/src/device/metal_device.cc:313] maxCacheSize: 18.00 GB\n",
            "2024-12-21 13:35:43.492962: I tensorflow/core/common_runtime/pluggable_device/pluggable_device_factory.cc:305] Could not identify NUMA node of platform GPU ID 0, defaulting to 0. Your kernel may not have been built with NUMA support.\n",
            "2024-12-21 13:35:43.492973: I tensorflow/core/common_runtime/pluggable_device/pluggable_device_factory.cc:271] Created TensorFlow device (/job:localhost/replica:0/task:0/device:GPU:0 with 0 MB memory) -> physical PluggableDevice (device: 0, name: METAL, pci bus id: <undefined>)\n"
          ]
        }
      ],
      "source": [
        "# Create the Sequential model instance\n",
        "model = Sequential()\n",
        "\n",
        "# Add the first hidden layer\n",
        "model.add(Dense(units=first_layer, activation='relu', input_dim=input_features))\n",
        "\n",
        "# Add the second hidden layer\n",
        "model.add(Dense(units=second_layer, activation='relu'))\n",
        "\n",
        "\n",
        "# Add the output layer to the model specifying the number of output neurons and activation function\n",
        "model.add(Dense(units=neurons, activation='sigmoid'))\n"
      ]
    },
    {
      "cell_type": "code",
      "execution_count": 26,
      "metadata": {
        "colab": {
          "base_uri": "https://localhost:8080/"
        },
        "id": "-Beoh4f_6q61",
        "outputId": "2e50f810-086b-4d89-bf7d-98afbe0d649d"
      },
      "outputs": [
        {
          "data": {
            "text/html": [
              "<pre style=\"white-space:pre;overflow-x:auto;line-height:normal;font-family:Menlo,'DejaVu Sans Mono',consolas,'Courier New',monospace\"><span style=\"font-weight: bold\">Model: \"sequential\"</span>\n",
              "</pre>\n"
            ],
            "text/plain": [
              "\u001b[1mModel: \"sequential\"\u001b[0m\n"
            ]
          },
          "metadata": {},
          "output_type": "display_data"
        },
        {
          "data": {
            "text/html": [
              "<pre style=\"white-space:pre;overflow-x:auto;line-height:normal;font-family:Menlo,'DejaVu Sans Mono',consolas,'Courier New',monospace\">┏━━━━━━━━━━━━━━━━━━━━━━━━━━━━━━━━━┳━━━━━━━━━━━━━━━━━━━━━━━━┳━━━━━━━━━━━━━━━┓\n",
              "┃<span style=\"font-weight: bold\"> Layer (type)                    </span>┃<span style=\"font-weight: bold\"> Output Shape           </span>┃<span style=\"font-weight: bold\">       Param # </span>┃\n",
              "┡━━━━━━━━━━━━━━━━━━━━━━━━━━━━━━━━━╇━━━━━━━━━━━━━━━━━━━━━━━━╇━━━━━━━━━━━━━━━┩\n",
              "│ dense (<span style=\"color: #0087ff; text-decoration-color: #0087ff\">Dense</span>)                   │ (<span style=\"color: #00d7ff; text-decoration-color: #00d7ff\">None</span>, <span style=\"color: #00af00; text-decoration-color: #00af00\">64</span>)             │           <span style=\"color: #00af00; text-decoration-color: #00af00\">768</span> │\n",
              "├─────────────────────────────────┼────────────────────────┼───────────────┤\n",
              "│ dense_1 (<span style=\"color: #0087ff; text-decoration-color: #0087ff\">Dense</span>)                 │ (<span style=\"color: #00d7ff; text-decoration-color: #00d7ff\">None</span>, <span style=\"color: #00af00; text-decoration-color: #00af00\">32</span>)             │         <span style=\"color: #00af00; text-decoration-color: #00af00\">2,080</span> │\n",
              "├─────────────────────────────────┼────────────────────────┼───────────────┤\n",
              "│ dense_2 (<span style=\"color: #0087ff; text-decoration-color: #0087ff\">Dense</span>)                 │ (<span style=\"color: #00d7ff; text-decoration-color: #00d7ff\">None</span>, <span style=\"color: #00af00; text-decoration-color: #00af00\">1</span>)              │            <span style=\"color: #00af00; text-decoration-color: #00af00\">33</span> │\n",
              "└─────────────────────────────────┴────────────────────────┴───────────────┘\n",
              "</pre>\n"
            ],
            "text/plain": [
              "┏━━━━━━━━━━━━━━━━━━━━━━━━━━━━━━━━━┳━━━━━━━━━━━━━━━━━━━━━━━━┳━━━━━━━━━━━━━━━┓\n",
              "┃\u001b[1m \u001b[0m\u001b[1mLayer (type)                   \u001b[0m\u001b[1m \u001b[0m┃\u001b[1m \u001b[0m\u001b[1mOutput Shape          \u001b[0m\u001b[1m \u001b[0m┃\u001b[1m \u001b[0m\u001b[1m      Param #\u001b[0m\u001b[1m \u001b[0m┃\n",
              "┡━━━━━━━━━━━━━━━━━━━━━━━━━━━━━━━━━╇━━━━━━━━━━━━━━━━━━━━━━━━╇━━━━━━━━━━━━━━━┩\n",
              "│ dense (\u001b[38;5;33mDense\u001b[0m)                   │ (\u001b[38;5;45mNone\u001b[0m, \u001b[38;5;34m64\u001b[0m)             │           \u001b[38;5;34m768\u001b[0m │\n",
              "├─────────────────────────────────┼────────────────────────┼───────────────┤\n",
              "│ dense_1 (\u001b[38;5;33mDense\u001b[0m)                 │ (\u001b[38;5;45mNone\u001b[0m, \u001b[38;5;34m32\u001b[0m)             │         \u001b[38;5;34m2,080\u001b[0m │\n",
              "├─────────────────────────────────┼────────────────────────┼───────────────┤\n",
              "│ dense_2 (\u001b[38;5;33mDense\u001b[0m)                 │ (\u001b[38;5;45mNone\u001b[0m, \u001b[38;5;34m1\u001b[0m)              │            \u001b[38;5;34m33\u001b[0m │\n",
              "└─────────────────────────────────┴────────────────────────┴───────────────┘\n"
            ]
          },
          "metadata": {},
          "output_type": "display_data"
        },
        {
          "data": {
            "text/html": [
              "<pre style=\"white-space:pre;overflow-x:auto;line-height:normal;font-family:Menlo,'DejaVu Sans Mono',consolas,'Courier New',monospace\"><span style=\"font-weight: bold\"> Total params: </span><span style=\"color: #00af00; text-decoration-color: #00af00\">2,881</span> (11.25 KB)\n",
              "</pre>\n"
            ],
            "text/plain": [
              "\u001b[1m Total params: \u001b[0m\u001b[38;5;34m2,881\u001b[0m (11.25 KB)\n"
            ]
          },
          "metadata": {},
          "output_type": "display_data"
        },
        {
          "data": {
            "text/html": [
              "<pre style=\"white-space:pre;overflow-x:auto;line-height:normal;font-family:Menlo,'DejaVu Sans Mono',consolas,'Courier New',monospace\"><span style=\"font-weight: bold\"> Trainable params: </span><span style=\"color: #00af00; text-decoration-color: #00af00\">2,881</span> (11.25 KB)\n",
              "</pre>\n"
            ],
            "text/plain": [
              "\u001b[1m Trainable params: \u001b[0m\u001b[38;5;34m2,881\u001b[0m (11.25 KB)\n"
            ]
          },
          "metadata": {},
          "output_type": "display_data"
        },
        {
          "data": {
            "text/html": [
              "<pre style=\"white-space:pre;overflow-x:auto;line-height:normal;font-family:Menlo,'DejaVu Sans Mono',consolas,'Courier New',monospace\"><span style=\"font-weight: bold\"> Non-trainable params: </span><span style=\"color: #00af00; text-decoration-color: #00af00\">0</span> (0.00 B)\n",
              "</pre>\n"
            ],
            "text/plain": [
              "\u001b[1m Non-trainable params: \u001b[0m\u001b[38;5;34m0\u001b[0m (0.00 B)\n"
            ]
          },
          "metadata": {},
          "output_type": "display_data"
        }
      ],
      "source": [
        "# Display the Sequential model summary\n",
        "model.summary()\n"
      ]
    },
    {
      "cell_type": "markdown",
      "metadata": {
        "id": "nRqWGIRo6q61"
      },
      "source": [
        "### Step 2: Compile and fit the model using the `binary_crossentropy` loss function, the `adam` optimizer, and the `accuracy` evaluation metric.\n"
      ]
    },
    {
      "cell_type": "code",
      "execution_count": 27,
      "metadata": {
        "id": "E-hZaeSn6q61"
      },
      "outputs": [],
      "source": [
        "# Compile the Sequential model\n",
        "model.compile(loss=\"binary_crossentropy\", optimizer=\"adam\", metrics=[\"accuracy\"])"
      ]
    },
    {
      "cell_type": "code",
      "execution_count": 28,
      "metadata": {
        "colab": {
          "base_uri": "https://localhost:8080/"
        },
        "id": "x25e8Idc6q61",
        "outputId": "e95946ba-23da-47a3-a1c1-5e9a2a484a47"
      },
      "outputs": [
        {
          "name": "stdout",
          "output_type": "stream",
          "text": [
            "Epoch 1/50\n"
          ]
        },
        {
          "name": "stderr",
          "output_type": "stream",
          "text": [
            "2024-12-21 13:35:44.328162: I tensorflow/core/grappler/optimizers/custom_graph_optimizer_registry.cc:117] Plugin optimizer for device_type GPU is enabled.\n"
          ]
        },
        {
          "name": "stdout",
          "output_type": "stream",
          "text": [
            "\u001b[1m38/38\u001b[0m \u001b[32m━━━━━━━━━━━━━━━━━━━━\u001b[0m\u001b[37m\u001b[0m \u001b[1m3s\u001b[0m 29ms/step - accuracy: 0.5722 - loss: 2.2408 - val_accuracy: 0.5875 - val_loss: 0.7760\n",
            "Epoch 2/50\n",
            "\u001b[1m38/38\u001b[0m \u001b[32m━━━━━━━━━━━━━━━━━━━━\u001b[0m\u001b[37m\u001b[0m \u001b[1m0s\u001b[0m 9ms/step - accuracy: 0.5597 - loss: 0.7985 - val_accuracy: 0.5200 - val_loss: 0.8079\n",
            "Epoch 3/50\n",
            "\u001b[1m38/38\u001b[0m \u001b[32m━━━━━━━━━━━━━━━━━━━━\u001b[0m\u001b[37m\u001b[0m \u001b[1m0s\u001b[0m 9ms/step - accuracy: 0.5491 - loss: 0.7875 - val_accuracy: 0.5300 - val_loss: 0.7583\n",
            "Epoch 4/50\n",
            "\u001b[1m38/38\u001b[0m \u001b[32m━━━━━━━━━━━━━━━━━━━━\u001b[0m\u001b[37m\u001b[0m \u001b[1m0s\u001b[0m 11ms/step - accuracy: 0.6171 - loss: 0.7095 - val_accuracy: 0.6075 - val_loss: 0.6891\n",
            "Epoch 5/50\n",
            "\u001b[1m38/38\u001b[0m \u001b[32m━━━━━━━━━━━━━━━━━━━━\u001b[0m\u001b[37m\u001b[0m \u001b[1m1s\u001b[0m 13ms/step - accuracy: 0.5726 - loss: 0.6943 - val_accuracy: 0.6125 - val_loss: 0.6710\n",
            "Epoch 6/50\n",
            "\u001b[1m38/38\u001b[0m \u001b[32m━━━━━━━━━━━━━━━━━━━━\u001b[0m\u001b[37m\u001b[0m \u001b[1m0s\u001b[0m 10ms/step - accuracy: 0.6192 - loss: 0.6564 - val_accuracy: 0.6050 - val_loss: 0.6589\n",
            "Epoch 7/50\n",
            "\u001b[1m38/38\u001b[0m \u001b[32m━━━━━━━━━━━━━━━━━━━━\u001b[0m\u001b[37m\u001b[0m \u001b[1m1s\u001b[0m 13ms/step - accuracy: 0.5775 - loss: 0.6810 - val_accuracy: 0.6100 - val_loss: 0.6626\n",
            "Epoch 8/50\n",
            "\u001b[1m38/38\u001b[0m \u001b[32m━━━━━━━━━━━━━━━━━━━━\u001b[0m\u001b[37m\u001b[0m \u001b[1m0s\u001b[0m 11ms/step - accuracy: 0.5883 - loss: 0.6752 - val_accuracy: 0.6125 - val_loss: 0.6635\n",
            "Epoch 9/50\n",
            "\u001b[1m38/38\u001b[0m \u001b[32m━━━━━━━━━━━━━━━━━━━━\u001b[0m\u001b[37m\u001b[0m \u001b[1m0s\u001b[0m 9ms/step - accuracy: 0.5982 - loss: 0.6760 - val_accuracy: 0.5675 - val_loss: 0.7041\n",
            "Epoch 10/50\n",
            "\u001b[1m38/38\u001b[0m \u001b[32m━━━━━━━━━━━━━━━━━━━━\u001b[0m\u001b[37m\u001b[0m \u001b[1m0s\u001b[0m 9ms/step - accuracy: 0.6054 - loss: 0.6801 - val_accuracy: 0.5825 - val_loss: 0.6910\n",
            "Epoch 11/50\n",
            "\u001b[1m38/38\u001b[0m \u001b[32m━━━━━━━━━━━━━━━━━━━━\u001b[0m\u001b[37m\u001b[0m \u001b[1m0s\u001b[0m 9ms/step - accuracy: 0.6063 - loss: 0.7024 - val_accuracy: 0.6425 - val_loss: 0.6284\n",
            "Epoch 12/50\n",
            "\u001b[1m38/38\u001b[0m \u001b[32m━━━━━━━━━━━━━━━━━━━━\u001b[0m\u001b[37m\u001b[0m \u001b[1m0s\u001b[0m 10ms/step - accuracy: 0.6122 - loss: 0.6546 - val_accuracy: 0.6425 - val_loss: 0.6246\n",
            "Epoch 13/50\n",
            "\u001b[1m38/38\u001b[0m \u001b[32m━━━━━━━━━━━━━━━━━━━━\u001b[0m\u001b[37m\u001b[0m \u001b[1m0s\u001b[0m 11ms/step - accuracy: 0.6532 - loss: 0.6267 - val_accuracy: 0.6100 - val_loss: 0.6394\n",
            "Epoch 14/50\n",
            "\u001b[1m38/38\u001b[0m \u001b[32m━━━━━━━━━━━━━━━━━━━━\u001b[0m\u001b[37m\u001b[0m \u001b[1m0s\u001b[0m 10ms/step - accuracy: 0.6305 - loss: 0.6232 - val_accuracy: 0.6275 - val_loss: 0.6640\n",
            "Epoch 15/50\n",
            "\u001b[1m38/38\u001b[0m \u001b[32m━━━━━━━━━━━━━━━━━━━━\u001b[0m\u001b[37m\u001b[0m \u001b[1m0s\u001b[0m 9ms/step - accuracy: 0.6133 - loss: 0.6468 - val_accuracy: 0.6350 - val_loss: 0.7043\n",
            "Epoch 16/50\n",
            "\u001b[1m38/38\u001b[0m \u001b[32m━━━━━━━━━━━━━━━━━━━━\u001b[0m\u001b[37m\u001b[0m \u001b[1m0s\u001b[0m 9ms/step - accuracy: 0.6057 - loss: 0.6956 - val_accuracy: 0.6475 - val_loss: 0.6142\n",
            "Epoch 17/50\n",
            "\u001b[1m38/38\u001b[0m \u001b[32m━━━━━━━━━━━━━━━━━━━━\u001b[0m\u001b[37m\u001b[0m \u001b[1m0s\u001b[0m 11ms/step - accuracy: 0.6304 - loss: 0.6231 - val_accuracy: 0.5850 - val_loss: 0.6575\n",
            "Epoch 18/50\n",
            "\u001b[1m38/38\u001b[0m \u001b[32m━━━━━━━━━━━━━━━━━━━━\u001b[0m\u001b[37m\u001b[0m \u001b[1m0s\u001b[0m 12ms/step - accuracy: 0.5887 - loss: 0.7037 - val_accuracy: 0.6225 - val_loss: 0.6346\n",
            "Epoch 19/50\n",
            "\u001b[1m38/38\u001b[0m \u001b[32m━━━━━━━━━━━━━━━━━━━━\u001b[0m\u001b[37m\u001b[0m \u001b[1m1s\u001b[0m 14ms/step - accuracy: 0.6476 - loss: 0.6123 - val_accuracy: 0.6175 - val_loss: 0.6223\n",
            "Epoch 20/50\n",
            "\u001b[1m38/38\u001b[0m \u001b[32m━━━━━━━━━━━━━━━━━━━━\u001b[0m\u001b[37m\u001b[0m \u001b[1m0s\u001b[0m 12ms/step - accuracy: 0.6148 - loss: 0.6301 - val_accuracy: 0.6225 - val_loss: 0.7211\n",
            "Epoch 21/50\n",
            "\u001b[1m38/38\u001b[0m \u001b[32m━━━━━━━━━━━━━━━━━━━━\u001b[0m\u001b[37m\u001b[0m \u001b[1m0s\u001b[0m 11ms/step - accuracy: 0.6262 - loss: 0.6440 - val_accuracy: 0.6700 - val_loss: 0.5921\n",
            "Epoch 22/50\n",
            "\u001b[1m38/38\u001b[0m \u001b[32m━━━━━━━━━━━━━━━━━━━━\u001b[0m\u001b[37m\u001b[0m \u001b[1m0s\u001b[0m 10ms/step - accuracy: 0.6671 - loss: 0.6004 - val_accuracy: 0.6550 - val_loss: 0.6542\n",
            "Epoch 23/50\n",
            "\u001b[1m38/38\u001b[0m \u001b[32m━━━━━━━━━━━━━━━━━━━━\u001b[0m\u001b[37m\u001b[0m \u001b[1m0s\u001b[0m 9ms/step - accuracy: 0.6665 - loss: 0.5987 - val_accuracy: 0.6775 - val_loss: 0.5869\n",
            "Epoch 24/50\n",
            "\u001b[1m38/38\u001b[0m \u001b[32m━━━━━━━━━━━━━━━━━━━━\u001b[0m\u001b[37m\u001b[0m \u001b[1m0s\u001b[0m 12ms/step - accuracy: 0.6743 - loss: 0.6082 - val_accuracy: 0.6200 - val_loss: 0.7305\n",
            "Epoch 25/50\n",
            "\u001b[1m38/38\u001b[0m \u001b[32m━━━━━━━━━━━━━━━━━━━━\u001b[0m\u001b[37m\u001b[0m \u001b[1m0s\u001b[0m 11ms/step - accuracy: 0.6437 - loss: 0.6251 - val_accuracy: 0.6725 - val_loss: 0.5831\n",
            "Epoch 26/50\n",
            "\u001b[1m38/38\u001b[0m \u001b[32m━━━━━━━━━━━━━━━━━━━━\u001b[0m\u001b[37m\u001b[0m \u001b[1m0s\u001b[0m 12ms/step - accuracy: 0.6833 - loss: 0.5885 - val_accuracy: 0.6300 - val_loss: 0.6036\n",
            "Epoch 27/50\n",
            "\u001b[1m38/38\u001b[0m \u001b[32m━━━━━━━━━━━━━━━━━━━━\u001b[0m\u001b[37m\u001b[0m \u001b[1m0s\u001b[0m 11ms/step - accuracy: 0.6698 - loss: 0.5939 - val_accuracy: 0.6750 - val_loss: 0.6425\n",
            "Epoch 28/50\n",
            "\u001b[1m38/38\u001b[0m \u001b[32m━━━━━━━━━━━━━━━━━━━━\u001b[0m\u001b[37m\u001b[0m \u001b[1m0s\u001b[0m 10ms/step - accuracy: 0.6668 - loss: 0.6214 - val_accuracy: 0.5625 - val_loss: 0.6494\n",
            "Epoch 29/50\n",
            "\u001b[1m38/38\u001b[0m \u001b[32m━━━━━━━━━━━━━━━━━━━━\u001b[0m\u001b[37m\u001b[0m \u001b[1m0s\u001b[0m 9ms/step - accuracy: 0.6341 - loss: 0.6107 - val_accuracy: 0.6150 - val_loss: 0.6053\n",
            "Epoch 30/50\n",
            "\u001b[1m38/38\u001b[0m \u001b[32m━━━━━━━━━━━━━━━━━━━━\u001b[0m\u001b[37m\u001b[0m \u001b[1m0s\u001b[0m 9ms/step - accuracy: 0.6972 - loss: 0.5904 - val_accuracy: 0.6100 - val_loss: 0.6048\n",
            "Epoch 31/50\n",
            "\u001b[1m38/38\u001b[0m \u001b[32m━━━━━━━━━━━━━━━━━━━━\u001b[0m\u001b[37m\u001b[0m \u001b[1m0s\u001b[0m 10ms/step - accuracy: 0.6409 - loss: 0.6234 - val_accuracy: 0.6850 - val_loss: 0.5791\n",
            "Epoch 32/50\n",
            "\u001b[1m38/38\u001b[0m \u001b[32m━━━━━━━━━━━━━━━━━━━━\u001b[0m\u001b[37m\u001b[0m \u001b[1m0s\u001b[0m 11ms/step - accuracy: 0.7010 - loss: 0.5726 - val_accuracy: 0.7050 - val_loss: 0.5637\n",
            "Epoch 33/50\n",
            "\u001b[1m38/38\u001b[0m \u001b[32m━━━━━━━━━━━━━━━━━━━━\u001b[0m\u001b[37m\u001b[0m \u001b[1m0s\u001b[0m 12ms/step - accuracy: 0.7062 - loss: 0.5734 - val_accuracy: 0.6900 - val_loss: 0.5803\n",
            "Epoch 34/50\n",
            "\u001b[1m38/38\u001b[0m \u001b[32m━━━━━━━━━━━━━━━━━━━━\u001b[0m\u001b[37m\u001b[0m \u001b[1m0s\u001b[0m 12ms/step - accuracy: 0.6950 - loss: 0.5867 - val_accuracy: 0.6175 - val_loss: 0.6122\n",
            "Epoch 35/50\n",
            "\u001b[1m38/38\u001b[0m \u001b[32m━━━━━━━━━━━━━━━━━━━━\u001b[0m\u001b[37m\u001b[0m \u001b[1m0s\u001b[0m 12ms/step - accuracy: 0.6830 - loss: 0.5918 - val_accuracy: 0.6825 - val_loss: 0.5920\n",
            "Epoch 36/50\n",
            "\u001b[1m38/38\u001b[0m \u001b[32m━━━━━━━━━━━━━━━━━━━━\u001b[0m\u001b[37m\u001b[0m \u001b[1m0s\u001b[0m 10ms/step - accuracy: 0.6389 - loss: 0.6363 - val_accuracy: 0.6250 - val_loss: 0.6054\n",
            "Epoch 37/50\n",
            "\u001b[1m38/38\u001b[0m \u001b[32m━━━━━━━━━━━━━━━━━━━━\u001b[0m\u001b[37m\u001b[0m \u001b[1m0s\u001b[0m 9ms/step - accuracy: 0.6885 - loss: 0.5929 - val_accuracy: 0.6975 - val_loss: 0.5692\n",
            "Epoch 38/50\n",
            "\u001b[1m38/38\u001b[0m \u001b[32m━━━━━━━━━━━━━━━━━━━━\u001b[0m\u001b[37m\u001b[0m \u001b[1m0s\u001b[0m 9ms/step - accuracy: 0.6555 - loss: 0.6314 - val_accuracy: 0.6950 - val_loss: 0.5776\n",
            "Epoch 39/50\n",
            "\u001b[1m38/38\u001b[0m \u001b[32m━━━━━━━━━━━━━━━━━━━━\u001b[0m\u001b[37m\u001b[0m \u001b[1m0s\u001b[0m 11ms/step - accuracy: 0.6784 - loss: 0.6647 - val_accuracy: 0.6850 - val_loss: 0.6208\n",
            "Epoch 40/50\n",
            "\u001b[1m38/38\u001b[0m \u001b[32m━━━━━━━━━━━━━━━━━━━━\u001b[0m\u001b[37m\u001b[0m \u001b[1m0s\u001b[0m 11ms/step - accuracy: 0.6836 - loss: 0.6015 - val_accuracy: 0.5800 - val_loss: 0.6612\n",
            "Epoch 41/50\n",
            "\u001b[1m38/38\u001b[0m \u001b[32m━━━━━━━━━━━━━━━━━━━━\u001b[0m\u001b[37m\u001b[0m \u001b[1m0s\u001b[0m 10ms/step - accuracy: 0.6688 - loss: 0.6023 - val_accuracy: 0.7000 - val_loss: 0.5742\n",
            "Epoch 42/50\n",
            "\u001b[1m38/38\u001b[0m \u001b[32m━━━━━━━━━━━━━━━━━━━━\u001b[0m\u001b[37m\u001b[0m \u001b[1m0s\u001b[0m 9ms/step - accuracy: 0.6989 - loss: 0.5747 - val_accuracy: 0.5875 - val_loss: 0.6766\n",
            "Epoch 43/50\n",
            "\u001b[1m38/38\u001b[0m \u001b[32m━━━━━━━━━━━━━━━━━━━━\u001b[0m\u001b[37m\u001b[0m \u001b[1m0s\u001b[0m 9ms/step - accuracy: 0.6842 - loss: 0.5975 - val_accuracy: 0.6800 - val_loss: 0.5877\n",
            "Epoch 44/50\n",
            "\u001b[1m38/38\u001b[0m \u001b[32m━━━━━━━━━━━━━━━━━━━━\u001b[0m\u001b[37m\u001b[0m \u001b[1m0s\u001b[0m 9ms/step - accuracy: 0.6678 - loss: 0.6601 - val_accuracy: 0.6650 - val_loss: 0.7486\n",
            "Epoch 45/50\n",
            "\u001b[1m38/38\u001b[0m \u001b[32m━━━━━━━━━━━━━━━━━━━━\u001b[0m\u001b[37m\u001b[0m \u001b[1m0s\u001b[0m 9ms/step - accuracy: 0.6622 - loss: 0.6670 - val_accuracy: 0.7100 - val_loss: 0.5499\n",
            "Epoch 46/50\n",
            "\u001b[1m38/38\u001b[0m \u001b[32m━━━━━━━━━━━━━━━━━━━━\u001b[0m\u001b[37m\u001b[0m \u001b[1m0s\u001b[0m 9ms/step - accuracy: 0.7169 - loss: 0.5493 - val_accuracy: 0.6375 - val_loss: 0.6225\n",
            "Epoch 47/50\n",
            "\u001b[1m38/38\u001b[0m \u001b[32m━━━━━━━━━━━━━━━━━━━━\u001b[0m\u001b[37m\u001b[0m \u001b[1m0s\u001b[0m 10ms/step - accuracy: 0.7164 - loss: 0.5556 - val_accuracy: 0.6450 - val_loss: 0.5932\n",
            "Epoch 48/50\n",
            "\u001b[1m38/38\u001b[0m \u001b[32m━━━━━━━━━━━━━━━━━━━━\u001b[0m\u001b[37m\u001b[0m \u001b[1m0s\u001b[0m 9ms/step - accuracy: 0.7049 - loss: 0.5783 - val_accuracy: 0.7150 - val_loss: 0.5447\n",
            "Epoch 49/50\n",
            "\u001b[1m38/38\u001b[0m \u001b[32m━━━━━━━━━━━━━━━━━━━━\u001b[0m\u001b[37m\u001b[0m \u001b[1m0s\u001b[0m 10ms/step - accuracy: 0.6999 - loss: 0.5653 - val_accuracy: 0.5875 - val_loss: 0.6660\n",
            "Epoch 50/50\n",
            "\u001b[1m38/38\u001b[0m \u001b[32m━━━━━━━━━━━━━━━━━━━━\u001b[0m\u001b[37m\u001b[0m \u001b[1m0s\u001b[0m 9ms/step - accuracy: 0.6964 - loss: 0.5988 - val_accuracy: 0.7150 - val_loss: 0.5389\n"
          ]
        }
      ],
      "source": [
        "# Fit the model using 50 epochs and the training data\n",
        "train_model = model.fit(X_train, y_train, epochs=50, validation_data=(X_test, y_test))"
      ]
    },
    {
      "cell_type": "markdown",
      "metadata": {
        "id": "RfHMPZVI6q61"
      },
      "source": [
        "### Step 3: Evaluate the model using the test data to determine the model’s loss and accuracy.\n"
      ]
    },
    {
      "cell_type": "code",
      "execution_count": 29,
      "metadata": {
        "colab": {
          "base_uri": "https://localhost:8080/"
        },
        "id": "5hfVADKo6q61",
        "outputId": "7df473ad-3301-4b49-e5c3-16e1687cc1cf"
      },
      "outputs": [
        {
          "name": "stdout",
          "output_type": "stream",
          "text": [
            "\u001b[1m13/13\u001b[0m \u001b[32m━━━━━━━━━━━━━━━━━━━━\u001b[0m\u001b[37m\u001b[0m \u001b[1m0s\u001b[0m 5ms/step - accuracy: 0.7287 - loss: 0.5277 \n",
            "Model Loss: 0.5389103889465332, Model Accuracy: 0.7149999737739563\n"
          ]
        }
      ],
      "source": [
        "# Evaluate the model loss and accuracy metrics using the evaluate method and the test data\n",
        "model_evaluation = model.evaluate(X_test, y_test)\n",
        "\n",
        "# Display the model loss and accuracy results\n",
        "print(f'Model Loss: {model_evaluation[0]}, Model Accuracy: {model_evaluation[1]}')\n"
      ]
    },
    {
      "cell_type": "markdown",
      "metadata": {
        "id": "jpAv0rXA6q61"
      },
      "source": [
        "### Step 4: Save and export your model to a keras file, and name the file `student_loans.keras`.\n"
      ]
    },
    {
      "cell_type": "code",
      "execution_count": 30,
      "metadata": {
        "id": "q0MetN0W6q61"
      },
      "outputs": [],
      "source": [
        "# Set the model's file path\n",
        "save_path = Path('saved_models/')\n",
        "\n",
        "# Export your model to a keras file\n",
        "model.save(f'{save_path}student_loans.keras')\n"
      ]
    },
    {
      "cell_type": "markdown",
      "metadata": {
        "id": "R1opCDdN6q61"
      },
      "source": [
        "---\n",
        "## Predict Loan Repayment Success by Using your Neural Network Model"
      ]
    },
    {
      "cell_type": "markdown",
      "metadata": {
        "id": "TfIfpeiy6q61"
      },
      "source": [
        "### Step 1: Reload your saved model."
      ]
    },
    {
      "cell_type": "code",
      "execution_count": 31,
      "metadata": {
        "id": "OCET2mvW6q61"
      },
      "outputs": [],
      "source": [
        "# Set the model's file path\n",
        "load_path = Path('saved_models/')\n",
        "\n",
        "# Load the model to a new object\n",
        "loaded_model = tf.keras.models.load_model(f'{load_path}student_loans.keras')"
      ]
    },
    {
      "cell_type": "markdown",
      "metadata": {
        "id": "rTPKooGw6q61"
      },
      "source": [
        "### Step 2: Make predictions on the testing data and save the predictions to a DataFrame."
      ]
    },
    {
      "cell_type": "code",
      "execution_count": 32,
      "metadata": {
        "colab": {
          "base_uri": "https://localhost:8080/"
        },
        "id": "Vet7qjgx6q62",
        "outputId": "0925af42-7e12-4978-8396-2a2c1580e1eb"
      },
      "outputs": [
        {
          "name": "stdout",
          "output_type": "stream",
          "text": [
            "\u001b[1m13/13\u001b[0m \u001b[32m━━━━━━━━━━━━━━━━━━━━\u001b[0m\u001b[37m\u001b[0m \u001b[1m0s\u001b[0m 3ms/step \n",
            "[[0.6098497 ]\n",
            " [0.28802505]\n",
            " [0.8213817 ]\n",
            " [0.59525996]\n",
            " [0.9149702 ]\n",
            " [0.7718631 ]\n",
            " [0.8619122 ]\n",
            " [0.14239675]\n",
            " [0.66129786]\n",
            " [0.29403067]\n",
            " [0.73776644]\n",
            " [0.2989449 ]\n",
            " [0.45870298]\n",
            " [0.8584257 ]\n",
            " [0.4080098 ]\n",
            " [0.388521  ]\n",
            " [0.64342695]\n",
            " [0.48441562]\n",
            " [0.69471174]\n",
            " [0.3653275 ]\n",
            " [0.5696279 ]\n",
            " [0.71562815]\n",
            " [0.40513295]\n",
            " [0.8895855 ]\n",
            " [0.3802195 ]\n",
            " [0.78211784]\n",
            " [0.7394841 ]\n",
            " [0.45702907]\n",
            " [0.4980701 ]\n",
            " [0.0776115 ]\n",
            " [0.21304637]\n",
            " [0.8364962 ]\n",
            " [0.20073652]\n",
            " [0.78310215]\n",
            " [0.15470661]\n",
            " [0.63275903]\n",
            " [0.4431032 ]\n",
            " [0.3481076 ]\n",
            " [0.7953766 ]\n",
            " [0.25922343]\n",
            " [0.805391  ]\n",
            " [0.06742481]\n",
            " [0.37871826]\n",
            " [0.7822476 ]\n",
            " [0.12185682]\n",
            " [0.6505159 ]\n",
            " [0.21743053]\n",
            " [0.27920848]\n",
            " [0.25822857]\n",
            " [0.73499095]\n",
            " [0.24281934]\n",
            " [0.47381467]\n",
            " [0.7458918 ]\n",
            " [0.03590885]\n",
            " [0.33003736]\n",
            " [0.7964803 ]\n",
            " [0.7116999 ]\n",
            " [0.8065467 ]\n",
            " [0.62387115]\n",
            " [0.08263329]\n",
            " [0.78801167]\n",
            " [0.31584513]\n",
            " [0.3779532 ]\n",
            " [0.42666015]\n",
            " [0.02751291]\n",
            " [0.5119042 ]\n",
            " [0.91934365]\n",
            " [0.33230856]\n",
            " [0.6003736 ]\n",
            " [0.872176  ]\n",
            " [0.15470661]\n",
            " [0.85585195]\n",
            " [0.5229739 ]\n",
            " [0.4830942 ]\n",
            " [0.46521857]\n",
            " [0.40816587]\n",
            " [0.8477347 ]\n",
            " [0.43161774]\n",
            " [0.2453544 ]\n",
            " [0.60199726]\n",
            " [0.7447221 ]\n",
            " [0.09900426]\n",
            " [0.06371688]\n",
            " [0.39705688]\n",
            " [0.61210924]\n",
            " [0.10629198]\n",
            " [0.196726  ]\n",
            " [0.816409  ]\n",
            " [0.4511518 ]\n",
            " [0.67326975]\n",
            " [0.26277387]\n",
            " [0.78381985]\n",
            " [0.19534905]\n",
            " [0.7658669 ]\n",
            " [0.79442   ]\n",
            " [0.26912528]\n",
            " [0.8519628 ]\n",
            " [0.41231632]\n",
            " [0.21617252]\n",
            " [0.6495157 ]\n",
            " [0.42384976]\n",
            " [0.52999485]\n",
            " [0.43578625]\n",
            " [0.09087975]\n",
            " [0.16913931]\n",
            " [0.29731256]\n",
            " [0.6026827 ]\n",
            " [0.37832138]\n",
            " [0.6417867 ]\n",
            " [0.2761479 ]\n",
            " [0.9171512 ]\n",
            " [0.3828607 ]\n",
            " [0.7716292 ]\n",
            " [0.48247004]\n",
            " [0.2495005 ]\n",
            " [0.91687924]\n",
            " [0.34711322]\n",
            " [0.17685343]\n",
            " [0.17207076]\n",
            " [0.2622914 ]\n",
            " [0.14904696]\n",
            " [0.89794976]\n",
            " [0.8562518 ]\n",
            " [0.2792022 ]\n",
            " [0.37582803]\n",
            " [0.37333778]\n",
            " [0.6350142 ]\n",
            " [0.1533077 ]\n",
            " [0.83871704]\n",
            " [0.5987914 ]\n",
            " [0.6294955 ]\n",
            " [0.25576007]\n",
            " [0.739194  ]\n",
            " [0.07606055]\n",
            " [0.64130783]\n",
            " [0.50475615]\n",
            " [0.22407496]\n",
            " [0.9139753 ]\n",
            " [0.3235409 ]\n",
            " [0.45135847]\n",
            " [0.2330137 ]\n",
            " [0.42303845]\n",
            " [0.5081577 ]\n",
            " [0.4451136 ]\n",
            " [0.76888853]\n",
            " [0.8276381 ]\n",
            " [0.59905404]\n",
            " [0.14124025]\n",
            " [0.48098868]\n",
            " [0.59292483]\n",
            " [0.47380707]\n",
            " [0.8284321 ]\n",
            " [0.27981603]\n",
            " [0.29577282]\n",
            " [0.6128371 ]\n",
            " [0.82650137]\n",
            " [0.8353848 ]\n",
            " [0.8270789 ]\n",
            " [0.871577  ]\n",
            " [0.3293016 ]\n",
            " [0.7898198 ]\n",
            " [0.6749829 ]\n",
            " [0.23923329]\n",
            " [0.16615196]\n",
            " [0.83938575]\n",
            " [0.7454005 ]\n",
            " [0.5152381 ]\n",
            " [0.11502306]\n",
            " [0.2500137 ]\n",
            " [0.7270418 ]\n",
            " [0.3174753 ]\n",
            " [0.6524    ]\n",
            " [0.11532614]\n",
            " [0.25957492]\n",
            " [0.88679254]\n",
            " [0.38950908]\n",
            " [0.40456194]\n",
            " [0.20893289]\n",
            " [0.26735142]\n",
            " [0.26912528]\n",
            " [0.4846281 ]\n",
            " [0.87607414]\n",
            " [0.6317368 ]\n",
            " [0.15890963]\n",
            " [0.8680906 ]\n",
            " [0.84872484]\n",
            " [0.7953293 ]\n",
            " [0.34988415]\n",
            " [0.3140468 ]\n",
            " [0.10140082]\n",
            " [0.32739928]\n",
            " [0.64385736]\n",
            " [0.43285087]\n",
            " [0.48730984]\n",
            " [0.65830785]\n",
            " [0.3254532 ]\n",
            " [0.6140195 ]\n",
            " [0.30739552]\n",
            " [0.56580025]\n",
            " [0.34540498]\n",
            " [0.81499696]\n",
            " [0.55760956]\n",
            " [0.8177886 ]\n",
            " [0.2210046 ]\n",
            " [0.8669411 ]\n",
            " [0.6938489 ]\n",
            " [0.31952596]\n",
            " [0.06810027]\n",
            " [0.80946267]\n",
            " [0.61880773]\n",
            " [0.20876013]\n",
            " [0.7528601 ]\n",
            " [0.43578625]\n",
            " [0.8638072 ]\n",
            " [0.20305197]\n",
            " [0.1722922 ]\n",
            " [0.33347836]\n",
            " [0.25211984]\n",
            " [0.72075015]\n",
            " [0.4580868 ]\n",
            " [0.480706  ]\n",
            " [0.45870465]\n",
            " [0.25038925]\n",
            " [0.19850355]\n",
            " [0.6411014 ]\n",
            " [0.5315898 ]\n",
            " [0.4901686 ]\n",
            " [0.506786  ]\n",
            " [0.867168  ]\n",
            " [0.47618434]\n",
            " [0.39175075]\n",
            " [0.20713508]\n",
            " [0.83266485]\n",
            " [0.7799066 ]\n",
            " [0.51313186]\n",
            " [0.39955813]\n",
            " [0.77618253]\n",
            " [0.16841389]\n",
            " [0.5547541 ]\n",
            " [0.43485713]\n",
            " [0.6924507 ]\n",
            " [0.7099307 ]\n",
            " [0.5573496 ]\n",
            " [0.4280106 ]\n",
            " [0.5010269 ]\n",
            " [0.9266696 ]\n",
            " [0.48179555]\n",
            " [0.19449824]\n",
            " [0.20289485]\n",
            " [0.30809966]\n",
            " [0.1466398 ]\n",
            " [0.2377332 ]\n",
            " [0.9252701 ]\n",
            " [0.6666914 ]\n",
            " [0.788752  ]\n",
            " [0.15438916]\n",
            " [0.2411142 ]\n",
            " [0.18635163]\n",
            " [0.3014348 ]\n",
            " [0.64655197]\n",
            " [0.71410143]\n",
            " [0.44337243]\n",
            " [0.47569525]\n",
            " [0.3680123 ]\n",
            " [0.40776888]\n",
            " [0.48098868]\n",
            " [0.51188725]\n",
            " [0.14933273]\n",
            " [0.13263819]\n",
            " [0.7662499 ]\n",
            " [0.5175702 ]\n",
            " [0.5745916 ]\n",
            " [0.09656736]\n",
            " [0.878835  ]\n",
            " [0.17303221]\n",
            " [0.5350496 ]\n",
            " [0.24717502]\n",
            " [0.6524    ]\n",
            " [0.45452312]\n",
            " [0.4595118 ]\n",
            " [0.92976564]\n",
            " [0.59893996]\n",
            " [0.56686914]\n",
            " [0.07736416]\n",
            " [0.19942379]\n",
            " [0.736263  ]\n",
            " [0.45799536]\n",
            " [0.3039146 ]\n",
            " [0.19268161]\n",
            " [0.5822574 ]\n",
            " [0.43516213]\n",
            " [0.64342695]\n",
            " [0.43629366]\n",
            " [0.33416417]\n",
            " [0.8036306 ]\n",
            " [0.83642936]\n",
            " [0.10561191]\n",
            " [0.79357845]\n",
            " [0.14947125]\n",
            " [0.382391  ]\n",
            " [0.5210656 ]\n",
            " [0.78144723]\n",
            " [0.06091336]\n",
            " [0.5818751 ]\n",
            " [0.49328607]\n",
            " [0.41649693]\n",
            " [0.08436833]\n",
            " [0.7715024 ]\n",
            " [0.53998446]\n",
            " [0.10217587]\n",
            " [0.4597723 ]\n",
            " [0.6375891 ]\n",
            " [0.43324083]\n",
            " [0.78271824]\n",
            " [0.4844061 ]\n",
            " [0.63440865]\n",
            " [0.12627758]\n",
            " [0.30498424]\n",
            " [0.86463577]\n",
            " [0.77618253]\n",
            " [0.29356727]\n",
            " [0.6622844 ]\n",
            " [0.91764784]\n",
            " [0.12592803]\n",
            " [0.3254532 ]\n",
            " [0.29999128]\n",
            " [0.22863907]\n",
            " [0.90873665]\n",
            " [0.6153172 ]\n",
            " [0.32543424]\n",
            " [0.42180237]\n",
            " [0.12315952]\n",
            " [0.25229445]\n",
            " [0.5496572 ]\n",
            " [0.36958387]\n",
            " [0.17628022]\n",
            " [0.74604934]\n",
            " [0.8638072 ]\n",
            " [0.29620856]\n",
            " [0.43741497]\n",
            " [0.27205038]\n",
            " [0.44534975]\n",
            " [0.43291712]\n",
            " [0.56648433]\n",
            " [0.43551302]\n",
            " [0.9386186 ]\n",
            " [0.78058064]\n",
            " [0.30790955]\n",
            " [0.32404667]\n",
            " [0.36757556]\n",
            " [0.7528601 ]\n",
            " [0.9205044 ]\n",
            " [0.40861827]\n",
            " [0.8755905 ]\n",
            " [0.5187347 ]\n",
            " [0.32623583]\n",
            " [0.89932436]\n",
            " [0.8584257 ]\n",
            " [0.22407496]\n",
            " [0.02386922]\n",
            " [0.22044408]\n",
            " [0.78701323]\n",
            " [0.27114233]\n",
            " [0.92444986]\n",
            " [0.45879993]\n",
            " [0.33913448]\n",
            " [0.37152606]\n",
            " [0.45483932]\n",
            " [0.63850147]\n",
            " [0.39955813]\n",
            " [0.46607795]\n",
            " [0.48913965]\n",
            " [0.373658  ]\n",
            " [0.56748384]\n",
            " [0.49912417]\n",
            " [0.48216033]\n",
            " [0.9385766 ]\n",
            " [0.90869766]\n",
            " [0.1722922 ]\n",
            " [0.72736573]\n",
            " [0.8322065 ]\n",
            " [0.75061977]\n",
            " [0.7499664 ]\n",
            " [0.659797  ]\n",
            " [0.51240915]\n",
            " [0.85953236]\n",
            " [0.2773543 ]\n",
            " [0.5359039 ]\n",
            " [0.6474802 ]\n",
            " [0.60648096]\n",
            " [0.19030379]\n",
            " [0.27842176]\n",
            " [0.2839468 ]\n",
            " [0.6540914 ]\n",
            " [0.4829015 ]\n",
            " [0.6763295 ]\n",
            " [0.4511518 ]\n",
            " [0.83266485]\n",
            " [0.22849976]\n",
            " [0.75405335]]\n"
          ]
        }
      ],
      "source": [
        "# Make predictions with the test data\n",
        "predictions = loaded_model.predict(X_test)\n",
        "\n",
        "# Display a sample of the predictions\n",
        "print(predictions)"
      ]
    },
    {
      "cell_type": "code",
      "execution_count": 33,
      "metadata": {
        "colab": {
          "base_uri": "https://localhost:8080/",
          "height": 424
        },
        "id": "87o8exFPhjfl",
        "outputId": "da5339c5-cea7-43e4-ec22-e168ea16dfa2"
      },
      "outputs": [],
      "source": [
        "# Save the predictions to a DataFrame and round the predictions to binary results\n",
        "\n",
        "results = (pd.DataFrame(predictions, columns=[\"predictions\"])>= 0.5).astype(int)"
      ]
    },
    {
      "cell_type": "markdown",
      "metadata": {
        "id": "oxxLwycg6q62"
      },
      "source": [
        "### Step 4: Display a classification report with the y test data and predictions"
      ]
    },
    {
      "cell_type": "code",
      "execution_count": 35,
      "metadata": {
        "colab": {
          "base_uri": "https://localhost:8080/"
        },
        "id": "UTxYZibW6q67",
        "outputId": "f341b396-9b4c-478c-dba8-f6d904ba10e3"
      },
      "outputs": [
        {
          "ename": "ValueError",
          "evalue": "Classification metrics can't handle a mix of binary and continuous targets",
          "output_type": "error",
          "traceback": [
            "\u001b[0;31m---------------------------------------------------------------------------\u001b[0m",
            "\u001b[0;31mValueError\u001b[0m                                Traceback (most recent call last)",
            "Cell \u001b[0;32mIn[35], line 2\u001b[0m\n\u001b[1;32m      1\u001b[0m \u001b[38;5;66;03m# Print the classification report with the y test data and predictions\u001b[39;00m\n\u001b[0;32m----> 2\u001b[0m \u001b[38;5;28mprint\u001b[39m(\u001b[43mclassification_report\u001b[49m\u001b[43m(\u001b[49m\u001b[43my_test\u001b[49m\u001b[43m,\u001b[49m\u001b[43m \u001b[49m\u001b[43mresults\u001b[49m\u001b[43m)\u001b[49m)\n",
            "File \u001b[0;32m/opt/miniconda3/envs/neural_network/lib/python3.10/site-packages/sklearn/utils/_param_validation.py:216\u001b[0m, in \u001b[0;36mvalidate_params.<locals>.decorator.<locals>.wrapper\u001b[0;34m(*args, **kwargs)\u001b[0m\n\u001b[1;32m    210\u001b[0m \u001b[38;5;28;01mtry\u001b[39;00m:\n\u001b[1;32m    211\u001b[0m     \u001b[38;5;28;01mwith\u001b[39;00m config_context(\n\u001b[1;32m    212\u001b[0m         skip_parameter_validation\u001b[38;5;241m=\u001b[39m(\n\u001b[1;32m    213\u001b[0m             prefer_skip_nested_validation \u001b[38;5;129;01mor\u001b[39;00m global_skip_validation\n\u001b[1;32m    214\u001b[0m         )\n\u001b[1;32m    215\u001b[0m     ):\n\u001b[0;32m--> 216\u001b[0m         \u001b[38;5;28;01mreturn\u001b[39;00m \u001b[43mfunc\u001b[49m\u001b[43m(\u001b[49m\u001b[38;5;241;43m*\u001b[39;49m\u001b[43margs\u001b[49m\u001b[43m,\u001b[49m\u001b[43m \u001b[49m\u001b[38;5;241;43m*\u001b[39;49m\u001b[38;5;241;43m*\u001b[39;49m\u001b[43mkwargs\u001b[49m\u001b[43m)\u001b[49m\n\u001b[1;32m    217\u001b[0m \u001b[38;5;28;01mexcept\u001b[39;00m InvalidParameterError \u001b[38;5;28;01mas\u001b[39;00m e:\n\u001b[1;32m    218\u001b[0m     \u001b[38;5;66;03m# When the function is just a wrapper around an estimator, we allow\u001b[39;00m\n\u001b[1;32m    219\u001b[0m     \u001b[38;5;66;03m# the function to delegate validation to the estimator, but we replace\u001b[39;00m\n\u001b[1;32m    220\u001b[0m     \u001b[38;5;66;03m# the name of the estimator by the name of the function in the error\u001b[39;00m\n\u001b[1;32m    221\u001b[0m     \u001b[38;5;66;03m# message to avoid confusion.\u001b[39;00m\n\u001b[1;32m    222\u001b[0m     msg \u001b[38;5;241m=\u001b[39m re\u001b[38;5;241m.\u001b[39msub(\n\u001b[1;32m    223\u001b[0m         \u001b[38;5;124mr\u001b[39m\u001b[38;5;124m\"\u001b[39m\u001b[38;5;124mparameter of \u001b[39m\u001b[38;5;124m\\\u001b[39m\u001b[38;5;124mw+ must be\u001b[39m\u001b[38;5;124m\"\u001b[39m,\n\u001b[1;32m    224\u001b[0m         \u001b[38;5;124mf\u001b[39m\u001b[38;5;124m\"\u001b[39m\u001b[38;5;124mparameter of \u001b[39m\u001b[38;5;132;01m{\u001b[39;00mfunc\u001b[38;5;241m.\u001b[39m\u001b[38;5;18m__qualname__\u001b[39m\u001b[38;5;132;01m}\u001b[39;00m\u001b[38;5;124m must be\u001b[39m\u001b[38;5;124m\"\u001b[39m,\n\u001b[1;32m    225\u001b[0m         \u001b[38;5;28mstr\u001b[39m(e),\n\u001b[1;32m    226\u001b[0m     )\n",
            "File \u001b[0;32m/opt/miniconda3/envs/neural_network/lib/python3.10/site-packages/sklearn/metrics/_classification.py:2671\u001b[0m, in \u001b[0;36mclassification_report\u001b[0;34m(y_true, y_pred, labels, target_names, sample_weight, digits, output_dict, zero_division)\u001b[0m\n\u001b[1;32m   2563\u001b[0m \u001b[38;5;250m\u001b[39m\u001b[38;5;124;03m\"\"\"Build a text report showing the main classification metrics.\u001b[39;00m\n\u001b[1;32m   2564\u001b[0m \n\u001b[1;32m   2565\u001b[0m \u001b[38;5;124;03mRead more in the :ref:`User Guide <classification_report>`.\u001b[39;00m\n\u001b[0;32m   (...)\u001b[0m\n\u001b[1;32m   2667\u001b[0m \u001b[38;5;124;03m<BLANKLINE>\u001b[39;00m\n\u001b[1;32m   2668\u001b[0m \u001b[38;5;124;03m\"\"\"\u001b[39;00m\n\u001b[1;32m   2670\u001b[0m y_true, y_pred \u001b[38;5;241m=\u001b[39m attach_unique(y_true, y_pred)\n\u001b[0;32m-> 2671\u001b[0m y_type, y_true, y_pred \u001b[38;5;241m=\u001b[39m \u001b[43m_check_targets\u001b[49m\u001b[43m(\u001b[49m\u001b[43my_true\u001b[49m\u001b[43m,\u001b[49m\u001b[43m \u001b[49m\u001b[43my_pred\u001b[49m\u001b[43m)\u001b[49m\n\u001b[1;32m   2673\u001b[0m \u001b[38;5;28;01mif\u001b[39;00m labels \u001b[38;5;129;01mis\u001b[39;00m \u001b[38;5;28;01mNone\u001b[39;00m:\n\u001b[1;32m   2674\u001b[0m     labels \u001b[38;5;241m=\u001b[39m unique_labels(y_true, y_pred)\n",
            "File \u001b[0;32m/opt/miniconda3/envs/neural_network/lib/python3.10/site-packages/sklearn/metrics/_classification.py:107\u001b[0m, in \u001b[0;36m_check_targets\u001b[0;34m(y_true, y_pred)\u001b[0m\n\u001b[1;32m    104\u001b[0m     y_type \u001b[38;5;241m=\u001b[39m {\u001b[38;5;124m\"\u001b[39m\u001b[38;5;124mmulticlass\u001b[39m\u001b[38;5;124m\"\u001b[39m}\n\u001b[1;32m    106\u001b[0m \u001b[38;5;28;01mif\u001b[39;00m \u001b[38;5;28mlen\u001b[39m(y_type) \u001b[38;5;241m>\u001b[39m \u001b[38;5;241m1\u001b[39m:\n\u001b[0;32m--> 107\u001b[0m     \u001b[38;5;28;01mraise\u001b[39;00m \u001b[38;5;167;01mValueError\u001b[39;00m(\n\u001b[1;32m    108\u001b[0m         \u001b[38;5;124m\"\u001b[39m\u001b[38;5;124mClassification metrics can\u001b[39m\u001b[38;5;124m'\u001b[39m\u001b[38;5;124mt handle a mix of \u001b[39m\u001b[38;5;132;01m{0}\u001b[39;00m\u001b[38;5;124m and \u001b[39m\u001b[38;5;132;01m{1}\u001b[39;00m\u001b[38;5;124m targets\u001b[39m\u001b[38;5;124m\"\u001b[39m\u001b[38;5;241m.\u001b[39mformat(\n\u001b[1;32m    109\u001b[0m             type_true, type_pred\n\u001b[1;32m    110\u001b[0m         )\n\u001b[1;32m    111\u001b[0m     )\n\u001b[1;32m    113\u001b[0m \u001b[38;5;66;03m# We can't have more than one value on y_type => The set is no more needed\u001b[39;00m\n\u001b[1;32m    114\u001b[0m y_type \u001b[38;5;241m=\u001b[39m y_type\u001b[38;5;241m.\u001b[39mpop()\n",
            "\u001b[0;31mValueError\u001b[0m: Classification metrics can't handle a mix of binary and continuous targets"
          ]
        }
      ],
      "source": [
        "# Print the classification report with the y test data and predictions\n",
        "print(classification_report(y_test, results))"
      ]
    },
    {
      "cell_type": "markdown",
      "metadata": {
        "id": "8Aaof1tBtcp6"
      },
      "source": [
        "---\n",
        "## Discuss creating a recommendation system for student loans"
      ]
    },
    {
      "cell_type": "markdown",
      "metadata": {
        "id": "_CC8cNpNtcp6"
      },
      "source": [
        "Briefly answer the following questions in the space provided:\n",
        "\n",
        "1. Describe the data that you would need to collect to build a recommendation system to recommend student loan options for students. Explain why this data would be relevant and appropriate.\n",
        "\n",
        "2. Based on the data you chose to use in this recommendation system, would your model be using collaborative filtering, content-based filtering, or context-based filtering? Justify why the data you selected would be suitable for your choice of filtering method.\n",
        "\n",
        "3. Describe two real-world challenges that you would take into consideration while building a recommendation system for student loans. Explain why these challenges would be of concern for a student loan recommendation system."
      ]
    },
    {
      "cell_type": "markdown",
      "metadata": {
        "id": "5KqIT8kYtcp6"
      },
      "source": [
        "**1. Describe the data that you would need to collect to build a recommendation system to recommend student loan options for students. Explain why this data would be relevant and appropriate.**\n",
        "\n",
        "\n",
        "**2. Based on the data you chose to use in this recommendation system, would your model be using collaborative filtering, content-based filtering, or context-based filtering? Justify why the data you selected would be suitable for your choice of filtering method.**\n",
        "\n",
        "\n",
        "**3. Describe two real-world challenges that you would take into consideration while building a recommendation system for student loans. Explain why these challenges would be of concern for a student loan recommendation system.**\n",
        "\n"
      ]
    }
  ],
  "metadata": {
    "colab": {
      "provenance": []
    },
    "kernelspec": {
      "display_name": "neural_network",
      "language": "python",
      "name": "python3"
    },
    "language_info": {
      "codemirror_mode": {
        "name": "ipython",
        "version": 3
      },
      "file_extension": ".py",
      "mimetype": "text/x-python",
      "name": "python",
      "nbconvert_exporter": "python",
      "pygments_lexer": "ipython3",
      "version": "3.9.15"
    }
  },
  "nbformat": 4,
  "nbformat_minor": 0
}
