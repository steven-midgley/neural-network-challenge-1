{
  "cells": [
    {
      "cell_type": "markdown",
      "metadata": {
        "id": "T7ZNhGcW6q6r"
      },
      "source": [
        "# Student Loan Risk with Deep Learning"
      ]
    },
    {
      "cell_type": "code",
      "execution_count": 1,
      "metadata": {
        "id": "0otrXpJc6q6u"
      },
      "outputs": [],
      "source": [
        "# Imports\n",
        "import pandas as pd\n",
        "import tensorflow as tf\n",
        "from tensorflow.keras.layers import Dense\n",
        "from tensorflow.keras.models import Sequential\n",
        "from sklearn.model_selection import train_test_split\n",
        "from sklearn.preprocessing import StandardScaler\n",
        "from sklearn.metrics import classification_report\n",
        "from pathlib import Path"
      ]
    },
    {
      "cell_type": "markdown",
      "metadata": {},
      "source": []
    },
    {
      "cell_type": "markdown",
      "metadata": {
        "id": "OpV4Y-3Z6q6w"
      },
      "source": [
        "---\n",
        "\n",
        "## Prepare the data to be used on a neural network model"
      ]
    },
    {
      "cell_type": "markdown",
      "metadata": {
        "id": "TUuSzp2l6q6w"
      },
      "source": [
        "### Step 1: Read the `student-loans.csv` file into a Pandas DataFrame. Review the DataFrame, looking for columns that could eventually define your features and target variables.   "
      ]
    },
    {
      "cell_type": "code",
      "execution_count": 2,
      "metadata": {
        "colab": {
          "base_uri": "https://localhost:8080/",
          "height": 226
        },
        "id": "G65km1KD6q6x",
        "outputId": "93d12d8d-c415-4017-8452-5b4966e4dde5"
      },
      "outputs": [
        {
          "data": {
            "text/html": [
              "<div>\n",
              "<style scoped>\n",
              "    .dataframe tbody tr th:only-of-type {\n",
              "        vertical-align: middle;\n",
              "    }\n",
              "\n",
              "    .dataframe tbody tr th {\n",
              "        vertical-align: top;\n",
              "    }\n",
              "\n",
              "    .dataframe thead th {\n",
              "        text-align: right;\n",
              "    }\n",
              "</style>\n",
              "<table border=\"1\" class=\"dataframe\">\n",
              "  <thead>\n",
              "    <tr style=\"text-align: right;\">\n",
              "      <th></th>\n",
              "      <th>payment_history</th>\n",
              "      <th>location_parameter</th>\n",
              "      <th>stem_degree_score</th>\n",
              "      <th>gpa_ranking</th>\n",
              "      <th>alumni_success</th>\n",
              "      <th>study_major_code</th>\n",
              "      <th>time_to_completion</th>\n",
              "      <th>finance_workshop_score</th>\n",
              "      <th>cohort_ranking</th>\n",
              "      <th>total_loan_score</th>\n",
              "      <th>financial_aid_score</th>\n",
              "      <th>credit_ranking</th>\n",
              "    </tr>\n",
              "  </thead>\n",
              "  <tbody>\n",
              "    <tr>\n",
              "      <th>0</th>\n",
              "      <td>7.4</td>\n",
              "      <td>0.70</td>\n",
              "      <td>0.00</td>\n",
              "      <td>1.9</td>\n",
              "      <td>0.076</td>\n",
              "      <td>11.0</td>\n",
              "      <td>34.0</td>\n",
              "      <td>0.9978</td>\n",
              "      <td>3.51</td>\n",
              "      <td>0.56</td>\n",
              "      <td>9.4</td>\n",
              "      <td>0</td>\n",
              "    </tr>\n",
              "    <tr>\n",
              "      <th>1</th>\n",
              "      <td>7.8</td>\n",
              "      <td>0.88</td>\n",
              "      <td>0.00</td>\n",
              "      <td>2.6</td>\n",
              "      <td>0.098</td>\n",
              "      <td>25.0</td>\n",
              "      <td>67.0</td>\n",
              "      <td>0.9968</td>\n",
              "      <td>3.20</td>\n",
              "      <td>0.68</td>\n",
              "      <td>9.8</td>\n",
              "      <td>0</td>\n",
              "    </tr>\n",
              "    <tr>\n",
              "      <th>2</th>\n",
              "      <td>7.8</td>\n",
              "      <td>0.76</td>\n",
              "      <td>0.04</td>\n",
              "      <td>2.3</td>\n",
              "      <td>0.092</td>\n",
              "      <td>15.0</td>\n",
              "      <td>54.0</td>\n",
              "      <td>0.9970</td>\n",
              "      <td>3.26</td>\n",
              "      <td>0.65</td>\n",
              "      <td>9.8</td>\n",
              "      <td>0</td>\n",
              "    </tr>\n",
              "    <tr>\n",
              "      <th>3</th>\n",
              "      <td>11.2</td>\n",
              "      <td>0.28</td>\n",
              "      <td>0.56</td>\n",
              "      <td>1.9</td>\n",
              "      <td>0.075</td>\n",
              "      <td>17.0</td>\n",
              "      <td>60.0</td>\n",
              "      <td>0.9980</td>\n",
              "      <td>3.16</td>\n",
              "      <td>0.58</td>\n",
              "      <td>9.8</td>\n",
              "      <td>1</td>\n",
              "    </tr>\n",
              "    <tr>\n",
              "      <th>4</th>\n",
              "      <td>7.4</td>\n",
              "      <td>0.70</td>\n",
              "      <td>0.00</td>\n",
              "      <td>1.9</td>\n",
              "      <td>0.076</td>\n",
              "      <td>11.0</td>\n",
              "      <td>34.0</td>\n",
              "      <td>0.9978</td>\n",
              "      <td>3.51</td>\n",
              "      <td>0.56</td>\n",
              "      <td>9.4</td>\n",
              "      <td>0</td>\n",
              "    </tr>\n",
              "  </tbody>\n",
              "</table>\n",
              "</div>"
            ],
            "text/plain": [
              "   payment_history  location_parameter  stem_degree_score  gpa_ranking  \\\n",
              "0              7.4                0.70               0.00          1.9   \n",
              "1              7.8                0.88               0.00          2.6   \n",
              "2              7.8                0.76               0.04          2.3   \n",
              "3             11.2                0.28               0.56          1.9   \n",
              "4              7.4                0.70               0.00          1.9   \n",
              "\n",
              "   alumni_success  study_major_code  time_to_completion  \\\n",
              "0           0.076              11.0                34.0   \n",
              "1           0.098              25.0                67.0   \n",
              "2           0.092              15.0                54.0   \n",
              "3           0.075              17.0                60.0   \n",
              "4           0.076              11.0                34.0   \n",
              "\n",
              "   finance_workshop_score  cohort_ranking  total_loan_score  \\\n",
              "0                  0.9978            3.51              0.56   \n",
              "1                  0.9968            3.20              0.68   \n",
              "2                  0.9970            3.26              0.65   \n",
              "3                  0.9980            3.16              0.58   \n",
              "4                  0.9978            3.51              0.56   \n",
              "\n",
              "   financial_aid_score  credit_ranking  \n",
              "0                  9.4               0  \n",
              "1                  9.8               0  \n",
              "2                  9.8               0  \n",
              "3                  9.8               1  \n",
              "4                  9.4               0  "
            ]
          },
          "execution_count": 2,
          "metadata": {},
          "output_type": "execute_result"
        }
      ],
      "source": [
        "# Read the csv into a Pandas DataFrame\n",
        "file_path = \"https://static.bc-edx.com/ai/ail-v-1-0/m18/lms/datasets/student-loans.csv\"\n",
        "loans_df = pd.read_csv(file_path)\n",
        "\n",
        "# Review the DataFrame\n",
        "loans_df.head()"
      ]
    },
    {
      "cell_type": "code",
      "execution_count": 3,
      "metadata": {
        "colab": {
          "base_uri": "https://localhost:8080/"
        },
        "id": "K8ZYB8wx6q6x",
        "outputId": "b509fc34-4488-406e-e451-2069fec37371"
      },
      "outputs": [
        {
          "data": {
            "text/plain": [
              "payment_history           float64\n",
              "location_parameter        float64\n",
              "stem_degree_score         float64\n",
              "gpa_ranking               float64\n",
              "alumni_success            float64\n",
              "study_major_code          float64\n",
              "time_to_completion        float64\n",
              "finance_workshop_score    float64\n",
              "cohort_ranking            float64\n",
              "total_loan_score          float64\n",
              "financial_aid_score       float64\n",
              "credit_ranking              int64\n",
              "dtype: object"
            ]
          },
          "execution_count": 3,
          "metadata": {},
          "output_type": "execute_result"
        }
      ],
      "source": [
        "# Review the data types associated with the columns\n",
        "loans_df.dtypes"
      ]
    },
    {
      "cell_type": "code",
      "execution_count": 4,
      "metadata": {
        "colab": {
          "base_uri": "https://localhost:8080/"
        },
        "id": "9P8aX-dW75JO",
        "outputId": "63251fa8-5ac1-4112-c2f7-bc5d97ea8491"
      },
      "outputs": [
        {
          "data": {
            "text/plain": [
              "credit_ranking\n",
              "1    855\n",
              "0    744\n",
              "Name: count, dtype: int64"
            ]
          },
          "execution_count": 4,
          "metadata": {},
          "output_type": "execute_result"
        }
      ],
      "source": [
        "# Check the credit_ranking value counts\n",
        "loans_df[\"credit_ranking\"].value_counts()"
      ]
    },
    {
      "cell_type": "markdown",
      "metadata": {
        "id": "R6vbZeDH6q6y"
      },
      "source": [
        "### Step 2: Using the preprocessed data, create the features (`X`) and target (`y`) datasets. The target dataset should be defined by the preprocessed DataFrame column “credit_ranking”. The remaining columns should define the features dataset."
      ]
    },
    {
      "cell_type": "code",
      "execution_count": 5,
      "metadata": {
        "colab": {
          "base_uri": "https://localhost:8080/"
        },
        "id": "Q5eVAP5M6q6y",
        "outputId": "89728bbf-6930-4573-a126-9f1b66ed8859"
      },
      "outputs": [
        {
          "name": "stdout",
          "output_type": "stream",
          "text": [
            "0       0\n",
            "1       0\n",
            "2       0\n",
            "3       1\n",
            "4       0\n",
            "       ..\n",
            "1594    0\n",
            "1595    1\n",
            "1596    1\n",
            "1597    0\n",
            "1598    1\n",
            "Name: credit_ranking, Length: 1599, dtype: int64\n"
          ]
        }
      ],
      "source": [
        "# Define the target set y using the credit_ranking column\n",
        "Y = loans_df.credit_ranking\n",
        "\n",
        "# Display a sample of y\n",
        "print(Y)"
      ]
    },
    {
      "cell_type": "code",
      "execution_count": 6,
      "metadata": {
        "colab": {
          "base_uri": "https://localhost:8080/",
          "height": 226
        },
        "id": "IIkrD2Sn6q6z",
        "outputId": "ce07c4a3-fb81-4657-d11e-ec85ae8554c9"
      },
      "outputs": [
        {
          "name": "stdout",
          "output_type": "stream",
          "text": [
            "      payment_history  location_parameter  stem_degree_score  gpa_ranking  \\\n",
            "0                 7.4               0.700               0.00          1.9   \n",
            "1                 7.8               0.880               0.00          2.6   \n",
            "2                 7.8               0.760               0.04          2.3   \n",
            "3                11.2               0.280               0.56          1.9   \n",
            "4                 7.4               0.700               0.00          1.9   \n",
            "...               ...                 ...                ...          ...   \n",
            "1594              6.2               0.600               0.08          2.0   \n",
            "1595              5.9               0.550               0.10          2.2   \n",
            "1596              6.3               0.510               0.13          2.3   \n",
            "1597              5.9               0.645               0.12          2.0   \n",
            "1598              6.0               0.310               0.47          3.6   \n",
            "\n",
            "      alumni_success  study_major_code  time_to_completion  \\\n",
            "0              0.076              11.0                34.0   \n",
            "1              0.098              25.0                67.0   \n",
            "2              0.092              15.0                54.0   \n",
            "3              0.075              17.0                60.0   \n",
            "4              0.076              11.0                34.0   \n",
            "...              ...               ...                 ...   \n",
            "1594           0.090              32.0                44.0   \n",
            "1595           0.062              39.0                51.0   \n",
            "1596           0.076              29.0                40.0   \n",
            "1597           0.075              32.0                44.0   \n",
            "1598           0.067              18.0                42.0   \n",
            "\n",
            "      finance_workshop_score  cohort_ranking  total_loan_score  \\\n",
            "0                    0.99780            3.51              0.56   \n",
            "1                    0.99680            3.20              0.68   \n",
            "2                    0.99700            3.26              0.65   \n",
            "3                    0.99800            3.16              0.58   \n",
            "4                    0.99780            3.51              0.56   \n",
            "...                      ...             ...               ...   \n",
            "1594                 0.99490            3.45              0.58   \n",
            "1595                 0.99512            3.52              0.76   \n",
            "1596                 0.99574            3.42              0.75   \n",
            "1597                 0.99547            3.57              0.71   \n",
            "1598                 0.99549            3.39              0.66   \n",
            "\n",
            "      financial_aid_score  \n",
            "0                     9.4  \n",
            "1                     9.8  \n",
            "2                     9.8  \n",
            "3                     9.8  \n",
            "4                     9.4  \n",
            "...                   ...  \n",
            "1594                 10.5  \n",
            "1595                 11.2  \n",
            "1596                 11.0  \n",
            "1597                 10.2  \n",
            "1598                 11.0  \n",
            "\n",
            "[1599 rows x 11 columns]\n"
          ]
        }
      ],
      "source": [
        "# Define features set X by selecting all columns but credit_ranking\n",
        "X = loans_df.drop(columns=['credit_ranking'])\n",
        "\n",
        "# Review the features DataFrame\n",
        "print(X)"
      ]
    },
    {
      "cell_type": "markdown",
      "metadata": {
        "id": "QmM9c-tj6q6z"
      },
      "source": [
        "### Step 3: Split the features and target sets into training and testing datasets.\n"
      ]
    },
    {
      "cell_type": "code",
      "execution_count": 7,
      "metadata": {
        "id": "OD7xwU_96q6z"
      },
      "outputs": [],
      "source": [
        "# Split the preprocessed data into a training and testing dataset\n",
        "# Assign the function a random_state equal to 1\n",
        "X_train, X_test, y_train, y_test = train_test_split(X, Y, random_state=1)"
      ]
    },
    {
      "cell_type": "markdown",
      "metadata": {
        "id": "G9i6DHY06q6z"
      },
      "source": [
        "### Step 4: Use scikit-learn's `StandardScaler` to scale the features data."
      ]
    },
    {
      "cell_type": "code",
      "execution_count": 8,
      "metadata": {
        "id": "BzD3z20m6q6z"
      },
      "outputs": [],
      "source": [
        "# Create a StandardScaler instance\n",
        "scaler = StandardScaler()\n",
        "\n",
        "# Fit the scaler to the features training dataset\n",
        "X_train_scaled = scaler.fit(X_train)\n",
        "\n",
        "# Fit the scaler to the features training dataset\n",
        "X_test_scaled = scaler.fit(X_test)"
      ]
    },
    {
      "cell_type": "markdown",
      "metadata": {
        "id": "CZzVDjba6q6z"
      },
      "source": [
        "---\n",
        "\n",
        "## Compile and Evaluate a Model Using a Neural Network"
      ]
    },
    {
      "cell_type": "markdown",
      "metadata": {
        "id": "m-pSux4Q6q60"
      },
      "source": [
        "### Step 1: Create a deep neural network by assigning the number of input features, the number of layers, and the number of neurons on each layer using Tensorflow’s Keras.\n",
        "\n",
        "> **Hint** You can start with a two-layer deep neural network model that uses the `relu` activation function for both layers.\n"
      ]
    },
    {
      "cell_type": "code",
      "execution_count": 9,
      "metadata": {
        "colab": {
          "base_uri": "https://localhost:8080/"
        },
        "id": "t5C94FCd6q60",
        "outputId": "cbf05783-2f56-4745-cd33-649a6152e510"
      },
      "outputs": [
        {
          "name": "stdout",
          "output_type": "stream",
          "text": [
            "11\n"
          ]
        }
      ],
      "source": [
        "# Define the the number of inputs (features) to the model\n",
        "input_features = len(X_train.iloc[0])\n",
        "\n",
        "# Review the number of features\n",
        "print(input_features)\n"
      ]
    },
    {
      "cell_type": "code",
      "execution_count": 10,
      "metadata": {
        "id": "c_KXDLkF6q60"
      },
      "outputs": [],
      "source": [
        "# Define the number of hidden nodes for the first hidden layer\n",
        "first_layer = 64\n",
        "\n",
        "# Define the number of hidden nodes for the second hidden layer\n",
        "second_layer = 32\n",
        "\n",
        "# Define the number of neurons in the output layer\n",
        "neurons = 1\n"
      ]
    },
    {
      "cell_type": "code",
      "execution_count": 11,
      "metadata": {
        "id": "63UdFncw6q60"
      },
      "outputs": [
        {
          "name": "stderr",
          "output_type": "stream",
          "text": [
            "/opt/miniconda3/envs/neural_network/lib/python3.10/site-packages/keras/src/layers/core/dense.py:87: UserWarning: Do not pass an `input_shape`/`input_dim` argument to a layer. When using Sequential models, prefer using an `Input(shape)` object as the first layer in the model instead.\n",
            "  super().__init__(activity_regularizer=activity_regularizer, **kwargs)\n",
            "2024-12-21 13:42:52.798745: I metal_plugin/src/device/metal_device.cc:1154] Metal device set to: Apple M3 Max\n",
            "2024-12-21 13:42:52.798773: I metal_plugin/src/device/metal_device.cc:296] systemMemory: 48.00 GB\n",
            "2024-12-21 13:42:52.798778: I metal_plugin/src/device/metal_device.cc:313] maxCacheSize: 18.00 GB\n",
            "2024-12-21 13:42:52.798792: I tensorflow/core/common_runtime/pluggable_device/pluggable_device_factory.cc:305] Could not identify NUMA node of platform GPU ID 0, defaulting to 0. Your kernel may not have been built with NUMA support.\n",
            "2024-12-21 13:42:52.798801: I tensorflow/core/common_runtime/pluggable_device/pluggable_device_factory.cc:271] Created TensorFlow device (/job:localhost/replica:0/task:0/device:GPU:0 with 0 MB memory) -> physical PluggableDevice (device: 0, name: METAL, pci bus id: <undefined>)\n"
          ]
        }
      ],
      "source": [
        "# Create the Sequential model instance\n",
        "model = Sequential()\n",
        "\n",
        "# Add the first hidden layer\n",
        "model.add(Dense(units=first_layer, activation='relu', input_dim=input_features))\n",
        "\n",
        "# Add the second hidden layer\n",
        "model.add(Dense(units=second_layer, activation='relu'))\n",
        "\n",
        "\n",
        "# Add the output layer to the model specifying the number of output neurons and activation function\n",
        "model.add(Dense(units=neurons, activation='sigmoid'))\n"
      ]
    },
    {
      "cell_type": "code",
      "execution_count": 12,
      "metadata": {
        "colab": {
          "base_uri": "https://localhost:8080/"
        },
        "id": "-Beoh4f_6q61",
        "outputId": "2e50f810-086b-4d89-bf7d-98afbe0d649d"
      },
      "outputs": [
        {
          "data": {
            "text/html": [
              "<pre style=\"white-space:pre;overflow-x:auto;line-height:normal;font-family:Menlo,'DejaVu Sans Mono',consolas,'Courier New',monospace\"><span style=\"font-weight: bold\">Model: \"sequential\"</span>\n",
              "</pre>\n"
            ],
            "text/plain": [
              "\u001b[1mModel: \"sequential\"\u001b[0m\n"
            ]
          },
          "metadata": {},
          "output_type": "display_data"
        },
        {
          "data": {
            "text/html": [
              "<pre style=\"white-space:pre;overflow-x:auto;line-height:normal;font-family:Menlo,'DejaVu Sans Mono',consolas,'Courier New',monospace\">┏━━━━━━━━━━━━━━━━━━━━━━━━━━━━━━━━━┳━━━━━━━━━━━━━━━━━━━━━━━━┳━━━━━━━━━━━━━━━┓\n",
              "┃<span style=\"font-weight: bold\"> Layer (type)                    </span>┃<span style=\"font-weight: bold\"> Output Shape           </span>┃<span style=\"font-weight: bold\">       Param # </span>┃\n",
              "┡━━━━━━━━━━━━━━━━━━━━━━━━━━━━━━━━━╇━━━━━━━━━━━━━━━━━━━━━━━━╇━━━━━━━━━━━━━━━┩\n",
              "│ dense (<span style=\"color: #0087ff; text-decoration-color: #0087ff\">Dense</span>)                   │ (<span style=\"color: #00d7ff; text-decoration-color: #00d7ff\">None</span>, <span style=\"color: #00af00; text-decoration-color: #00af00\">64</span>)             │           <span style=\"color: #00af00; text-decoration-color: #00af00\">768</span> │\n",
              "├─────────────────────────────────┼────────────────────────┼───────────────┤\n",
              "│ dense_1 (<span style=\"color: #0087ff; text-decoration-color: #0087ff\">Dense</span>)                 │ (<span style=\"color: #00d7ff; text-decoration-color: #00d7ff\">None</span>, <span style=\"color: #00af00; text-decoration-color: #00af00\">32</span>)             │         <span style=\"color: #00af00; text-decoration-color: #00af00\">2,080</span> │\n",
              "├─────────────────────────────────┼────────────────────────┼───────────────┤\n",
              "│ dense_2 (<span style=\"color: #0087ff; text-decoration-color: #0087ff\">Dense</span>)                 │ (<span style=\"color: #00d7ff; text-decoration-color: #00d7ff\">None</span>, <span style=\"color: #00af00; text-decoration-color: #00af00\">1</span>)              │            <span style=\"color: #00af00; text-decoration-color: #00af00\">33</span> │\n",
              "└─────────────────────────────────┴────────────────────────┴───────────────┘\n",
              "</pre>\n"
            ],
            "text/plain": [
              "┏━━━━━━━━━━━━━━━━━━━━━━━━━━━━━━━━━┳━━━━━━━━━━━━━━━━━━━━━━━━┳━━━━━━━━━━━━━━━┓\n",
              "┃\u001b[1m \u001b[0m\u001b[1mLayer (type)                   \u001b[0m\u001b[1m \u001b[0m┃\u001b[1m \u001b[0m\u001b[1mOutput Shape          \u001b[0m\u001b[1m \u001b[0m┃\u001b[1m \u001b[0m\u001b[1m      Param #\u001b[0m\u001b[1m \u001b[0m┃\n",
              "┡━━━━━━━━━━━━━━━━━━━━━━━━━━━━━━━━━╇━━━━━━━━━━━━━━━━━━━━━━━━╇━━━━━━━━━━━━━━━┩\n",
              "│ dense (\u001b[38;5;33mDense\u001b[0m)                   │ (\u001b[38;5;45mNone\u001b[0m, \u001b[38;5;34m64\u001b[0m)             │           \u001b[38;5;34m768\u001b[0m │\n",
              "├─────────────────────────────────┼────────────────────────┼───────────────┤\n",
              "│ dense_1 (\u001b[38;5;33mDense\u001b[0m)                 │ (\u001b[38;5;45mNone\u001b[0m, \u001b[38;5;34m32\u001b[0m)             │         \u001b[38;5;34m2,080\u001b[0m │\n",
              "├─────────────────────────────────┼────────────────────────┼───────────────┤\n",
              "│ dense_2 (\u001b[38;5;33mDense\u001b[0m)                 │ (\u001b[38;5;45mNone\u001b[0m, \u001b[38;5;34m1\u001b[0m)              │            \u001b[38;5;34m33\u001b[0m │\n",
              "└─────────────────────────────────┴────────────────────────┴───────────────┘\n"
            ]
          },
          "metadata": {},
          "output_type": "display_data"
        },
        {
          "data": {
            "text/html": [
              "<pre style=\"white-space:pre;overflow-x:auto;line-height:normal;font-family:Menlo,'DejaVu Sans Mono',consolas,'Courier New',monospace\"><span style=\"font-weight: bold\"> Total params: </span><span style=\"color: #00af00; text-decoration-color: #00af00\">2,881</span> (11.25 KB)\n",
              "</pre>\n"
            ],
            "text/plain": [
              "\u001b[1m Total params: \u001b[0m\u001b[38;5;34m2,881\u001b[0m (11.25 KB)\n"
            ]
          },
          "metadata": {},
          "output_type": "display_data"
        },
        {
          "data": {
            "text/html": [
              "<pre style=\"white-space:pre;overflow-x:auto;line-height:normal;font-family:Menlo,'DejaVu Sans Mono',consolas,'Courier New',monospace\"><span style=\"font-weight: bold\"> Trainable params: </span><span style=\"color: #00af00; text-decoration-color: #00af00\">2,881</span> (11.25 KB)\n",
              "</pre>\n"
            ],
            "text/plain": [
              "\u001b[1m Trainable params: \u001b[0m\u001b[38;5;34m2,881\u001b[0m (11.25 KB)\n"
            ]
          },
          "metadata": {},
          "output_type": "display_data"
        },
        {
          "data": {
            "text/html": [
              "<pre style=\"white-space:pre;overflow-x:auto;line-height:normal;font-family:Menlo,'DejaVu Sans Mono',consolas,'Courier New',monospace\"><span style=\"font-weight: bold\"> Non-trainable params: </span><span style=\"color: #00af00; text-decoration-color: #00af00\">0</span> (0.00 B)\n",
              "</pre>\n"
            ],
            "text/plain": [
              "\u001b[1m Non-trainable params: \u001b[0m\u001b[38;5;34m0\u001b[0m (0.00 B)\n"
            ]
          },
          "metadata": {},
          "output_type": "display_data"
        }
      ],
      "source": [
        "# Display the Sequential model summary\n",
        "model.summary()\n"
      ]
    },
    {
      "cell_type": "markdown",
      "metadata": {
        "id": "nRqWGIRo6q61"
      },
      "source": [
        "### Step 2: Compile and fit the model using the `binary_crossentropy` loss function, the `adam` optimizer, and the `accuracy` evaluation metric.\n"
      ]
    },
    {
      "cell_type": "code",
      "execution_count": 13,
      "metadata": {
        "id": "E-hZaeSn6q61"
      },
      "outputs": [],
      "source": [
        "# Compile the Sequential model\n",
        "model.compile(loss=\"binary_crossentropy\", optimizer=\"adam\", metrics=[\"accuracy\"])"
      ]
    },
    {
      "cell_type": "code",
      "execution_count": 14,
      "metadata": {
        "colab": {
          "base_uri": "https://localhost:8080/"
        },
        "id": "x25e8Idc6q61",
        "outputId": "e95946ba-23da-47a3-a1c1-5e9a2a484a47"
      },
      "outputs": [
        {
          "name": "stdout",
          "output_type": "stream",
          "text": [
            "Epoch 1/50\n"
          ]
        },
        {
          "name": "stderr",
          "output_type": "stream",
          "text": [
            "2024-12-21 13:42:53.112787: I tensorflow/core/grappler/optimizers/custom_graph_optimizer_registry.cc:117] Plugin optimizer for device_type GPU is enabled.\n"
          ]
        },
        {
          "name": "stdout",
          "output_type": "stream",
          "text": [
            "\u001b[1m38/38\u001b[0m \u001b[32m━━━━━━━━━━━━━━━━━━━━\u001b[0m\u001b[37m\u001b[0m \u001b[1m1s\u001b[0m 15ms/step - accuracy: 0.4381 - loss: 2.0152 - val_accuracy: 0.6200 - val_loss: 0.8369\n",
            "Epoch 2/50\n",
            "\u001b[1m38/38\u001b[0m \u001b[32m━━━━━━━━━━━━━━━━━━━━\u001b[0m\u001b[37m\u001b[0m \u001b[1m0s\u001b[0m 9ms/step - accuracy: 0.6706 - loss: 0.6908 - val_accuracy: 0.5475 - val_loss: 0.7616\n",
            "Epoch 3/50\n",
            "\u001b[1m38/38\u001b[0m \u001b[32m━━━━━━━━━━━━━━━━━━━━\u001b[0m\u001b[37m\u001b[0m \u001b[1m0s\u001b[0m 9ms/step - accuracy: 0.5979 - loss: 0.7224 - val_accuracy: 0.6350 - val_loss: 0.6482\n",
            "Epoch 4/50\n",
            "\u001b[1m38/38\u001b[0m \u001b[32m━━━━━━━━━━━━━━━━━━━━\u001b[0m\u001b[37m\u001b[0m \u001b[1m0s\u001b[0m 9ms/step - accuracy: 0.6362 - loss: 0.6514 - val_accuracy: 0.6525 - val_loss: 0.6262\n",
            "Epoch 5/50\n",
            "\u001b[1m38/38\u001b[0m \u001b[32m━━━━━━━━━━━━━━━━━━━━\u001b[0m\u001b[37m\u001b[0m \u001b[1m0s\u001b[0m 9ms/step - accuracy: 0.6071 - loss: 0.6443 - val_accuracy: 0.6350 - val_loss: 0.6732\n",
            "Epoch 6/50\n",
            "\u001b[1m38/38\u001b[0m \u001b[32m━━━━━━━━━━━━━━━━━━━━\u001b[0m\u001b[37m\u001b[0m \u001b[1m0s\u001b[0m 9ms/step - accuracy: 0.6429 - loss: 0.6275 - val_accuracy: 0.6450 - val_loss: 0.6211\n",
            "Epoch 7/50\n",
            "\u001b[1m38/38\u001b[0m \u001b[32m━━━━━━━━━━━━━━━━━━━━\u001b[0m\u001b[37m\u001b[0m \u001b[1m0s\u001b[0m 9ms/step - accuracy: 0.6247 - loss: 0.6325 - val_accuracy: 0.5325 - val_loss: 0.7670\n",
            "Epoch 8/50\n",
            "\u001b[1m38/38\u001b[0m \u001b[32m━━━━━━━━━━━━━━━━━━━━\u001b[0m\u001b[37m\u001b[0m \u001b[1m0s\u001b[0m 9ms/step - accuracy: 0.6148 - loss: 0.6422 - val_accuracy: 0.6450 - val_loss: 0.6203\n",
            "Epoch 9/50\n",
            "\u001b[1m38/38\u001b[0m \u001b[32m━━━━━━━━━━━━━━━━━━━━\u001b[0m\u001b[37m\u001b[0m \u001b[1m0s\u001b[0m 9ms/step - accuracy: 0.6722 - loss: 0.6047 - val_accuracy: 0.5300 - val_loss: 0.8985\n",
            "Epoch 10/50\n",
            "\u001b[1m38/38\u001b[0m \u001b[32m━━━━━━━━━━━━━━━━━━━━\u001b[0m\u001b[37m\u001b[0m \u001b[1m0s\u001b[0m 9ms/step - accuracy: 0.5829 - loss: 0.7441 - val_accuracy: 0.6675 - val_loss: 0.6232\n",
            "Epoch 11/50\n",
            "\u001b[1m38/38\u001b[0m \u001b[32m━━━━━━━━━━━━━━━━━━━━\u001b[0m\u001b[37m\u001b[0m \u001b[1m0s\u001b[0m 9ms/step - accuracy: 0.6243 - loss: 0.6616 - val_accuracy: 0.6250 - val_loss: 0.6225\n",
            "Epoch 12/50\n",
            "\u001b[1m38/38\u001b[0m \u001b[32m━━━━━━━━━━━━━━━━━━━━\u001b[0m\u001b[37m\u001b[0m \u001b[1m0s\u001b[0m 9ms/step - accuracy: 0.6830 - loss: 0.6015 - val_accuracy: 0.6075 - val_loss: 0.7312\n",
            "Epoch 13/50\n",
            "\u001b[1m38/38\u001b[0m \u001b[32m━━━━━━━━━━━━━━━━━━━━\u001b[0m\u001b[37m\u001b[0m \u001b[1m0s\u001b[0m 9ms/step - accuracy: 0.6536 - loss: 0.6098 - val_accuracy: 0.6475 - val_loss: 0.6823\n",
            "Epoch 14/50\n",
            "\u001b[1m38/38\u001b[0m \u001b[32m━━━━━━━━━━━━━━━━━━━━\u001b[0m\u001b[37m\u001b[0m \u001b[1m0s\u001b[0m 9ms/step - accuracy: 0.6921 - loss: 0.5877 - val_accuracy: 0.6650 - val_loss: 0.6037\n",
            "Epoch 15/50\n",
            "\u001b[1m38/38\u001b[0m \u001b[32m━━━━━━━━━━━━━━━━━━━━\u001b[0m\u001b[37m\u001b[0m \u001b[1m0s\u001b[0m 9ms/step - accuracy: 0.6657 - loss: 0.5977 - val_accuracy: 0.6675 - val_loss: 0.5996\n",
            "Epoch 16/50\n",
            "\u001b[1m38/38\u001b[0m \u001b[32m━━━━━━━━━━━━━━━━━━━━\u001b[0m\u001b[37m\u001b[0m \u001b[1m0s\u001b[0m 9ms/step - accuracy: 0.6905 - loss: 0.5846 - val_accuracy: 0.7125 - val_loss: 0.5762\n",
            "Epoch 17/50\n",
            "\u001b[1m38/38\u001b[0m \u001b[32m━━━━━━━━━━━━━━━━━━━━\u001b[0m\u001b[37m\u001b[0m \u001b[1m0s\u001b[0m 9ms/step - accuracy: 0.6547 - loss: 0.6268 - val_accuracy: 0.5775 - val_loss: 0.6732\n",
            "Epoch 18/50\n",
            "\u001b[1m38/38\u001b[0m \u001b[32m━━━━━━━━━━━━━━━━━━━━\u001b[0m\u001b[37m\u001b[0m \u001b[1m0s\u001b[0m 9ms/step - accuracy: 0.6365 - loss: 0.6448 - val_accuracy: 0.6275 - val_loss: 0.7581\n",
            "Epoch 19/50\n",
            "\u001b[1m38/38\u001b[0m \u001b[32m━━━━━━━━━━━━━━━━━━━━\u001b[0m\u001b[37m\u001b[0m \u001b[1m0s\u001b[0m 9ms/step - accuracy: 0.6229 - loss: 0.6915 - val_accuracy: 0.6625 - val_loss: 0.5780\n",
            "Epoch 20/50\n",
            "\u001b[1m38/38\u001b[0m \u001b[32m━━━━━━━━━━━━━━━━━━━━\u001b[0m\u001b[37m\u001b[0m \u001b[1m0s\u001b[0m 9ms/step - accuracy: 0.6216 - loss: 0.6534 - val_accuracy: 0.6350 - val_loss: 0.7545\n",
            "Epoch 21/50\n",
            "\u001b[1m38/38\u001b[0m \u001b[32m━━━━━━━━━━━━━━━━━━━━\u001b[0m\u001b[37m\u001b[0m \u001b[1m0s\u001b[0m 9ms/step - accuracy: 0.6876 - loss: 0.6032 - val_accuracy: 0.6925 - val_loss: 0.5726\n",
            "Epoch 22/50\n",
            "\u001b[1m38/38\u001b[0m \u001b[32m━━━━━━━━━━━━━━━━━━━━\u001b[0m\u001b[37m\u001b[0m \u001b[1m0s\u001b[0m 9ms/step - accuracy: 0.6793 - loss: 0.5996 - val_accuracy: 0.6775 - val_loss: 0.5801\n",
            "Epoch 23/50\n",
            "\u001b[1m38/38\u001b[0m \u001b[32m━━━━━━━━━━━━━━━━━━━━\u001b[0m\u001b[37m\u001b[0m \u001b[1m0s\u001b[0m 9ms/step - accuracy: 0.6937 - loss: 0.5771 - val_accuracy: 0.5900 - val_loss: 0.6566\n",
            "Epoch 24/50\n",
            "\u001b[1m38/38\u001b[0m \u001b[32m━━━━━━━━━━━━━━━━━━━━\u001b[0m\u001b[37m\u001b[0m \u001b[1m0s\u001b[0m 9ms/step - accuracy: 0.6361 - loss: 0.6403 - val_accuracy: 0.7050 - val_loss: 0.5616\n",
            "Epoch 25/50\n",
            "\u001b[1m38/38\u001b[0m \u001b[32m━━━━━━━━━━━━━━━━━━━━\u001b[0m\u001b[37m\u001b[0m \u001b[1m0s\u001b[0m 9ms/step - accuracy: 0.7037 - loss: 0.5767 - val_accuracy: 0.7050 - val_loss: 0.5695\n",
            "Epoch 26/50\n",
            "\u001b[1m38/38\u001b[0m \u001b[32m━━━━━━━━━━━━━━━━━━━━\u001b[0m\u001b[37m\u001b[0m \u001b[1m0s\u001b[0m 9ms/step - accuracy: 0.7271 - loss: 0.5553 - val_accuracy: 0.7275 - val_loss: 0.5568\n",
            "Epoch 27/50\n",
            "\u001b[1m38/38\u001b[0m \u001b[32m━━━━━━━━━━━━━━━━━━━━\u001b[0m\u001b[37m\u001b[0m \u001b[1m0s\u001b[0m 9ms/step - accuracy: 0.6912 - loss: 0.5947 - val_accuracy: 0.7150 - val_loss: 0.5571\n",
            "Epoch 28/50\n",
            "\u001b[1m38/38\u001b[0m \u001b[32m━━━━━━━━━━━━━━━━━━━━\u001b[0m\u001b[37m\u001b[0m \u001b[1m0s\u001b[0m 9ms/step - accuracy: 0.6855 - loss: 0.5735 - val_accuracy: 0.7100 - val_loss: 0.5594\n",
            "Epoch 29/50\n",
            "\u001b[1m38/38\u001b[0m \u001b[32m━━━━━━━━━━━━━━━━━━━━\u001b[0m\u001b[37m\u001b[0m \u001b[1m0s\u001b[0m 9ms/step - accuracy: 0.7129 - loss: 0.5870 - val_accuracy: 0.7050 - val_loss: 0.5662\n",
            "Epoch 30/50\n",
            "\u001b[1m38/38\u001b[0m \u001b[32m━━━━━━━━━━━━━━━━━━━━\u001b[0m\u001b[37m\u001b[0m \u001b[1m0s\u001b[0m 9ms/step - accuracy: 0.6826 - loss: 0.5965 - val_accuracy: 0.6325 - val_loss: 0.6028\n",
            "Epoch 31/50\n",
            "\u001b[1m38/38\u001b[0m \u001b[32m━━━━━━━━━━━━━━━━━━━━\u001b[0m\u001b[37m\u001b[0m \u001b[1m0s\u001b[0m 9ms/step - accuracy: 0.6735 - loss: 0.6037 - val_accuracy: 0.6700 - val_loss: 0.6909\n",
            "Epoch 32/50\n",
            "\u001b[1m38/38\u001b[0m \u001b[32m━━━━━━━━━━━━━━━━━━━━\u001b[0m\u001b[37m\u001b[0m \u001b[1m0s\u001b[0m 9ms/step - accuracy: 0.7161 - loss: 0.5771 - val_accuracy: 0.7050 - val_loss: 0.5866\n",
            "Epoch 33/50\n",
            "\u001b[1m38/38\u001b[0m \u001b[32m━━━━━━━━━━━━━━━━━━━━\u001b[0m\u001b[37m\u001b[0m \u001b[1m0s\u001b[0m 9ms/step - accuracy: 0.7070 - loss: 0.5813 - val_accuracy: 0.7125 - val_loss: 0.5489\n",
            "Epoch 34/50\n",
            "\u001b[1m38/38\u001b[0m \u001b[32m━━━━━━━━━━━━━━━━━━━━\u001b[0m\u001b[37m\u001b[0m \u001b[1m0s\u001b[0m 9ms/step - accuracy: 0.6865 - loss: 0.6084 - val_accuracy: 0.7175 - val_loss: 0.5560\n",
            "Epoch 35/50\n",
            "\u001b[1m38/38\u001b[0m \u001b[32m━━━━━━━━━━━━━━━━━━━━\u001b[0m\u001b[37m\u001b[0m \u001b[1m0s\u001b[0m 9ms/step - accuracy: 0.6804 - loss: 0.5986 - val_accuracy: 0.7100 - val_loss: 0.5528\n",
            "Epoch 36/50\n",
            "\u001b[1m38/38\u001b[0m \u001b[32m━━━━━━━━━━━━━━━━━━━━\u001b[0m\u001b[37m\u001b[0m \u001b[1m0s\u001b[0m 9ms/step - accuracy: 0.6929 - loss: 0.5814 - val_accuracy: 0.7025 - val_loss: 0.5584\n",
            "Epoch 37/50\n",
            "\u001b[1m38/38\u001b[0m \u001b[32m━━━━━━━━━━━━━━━━━━━━\u001b[0m\u001b[37m\u001b[0m \u001b[1m0s\u001b[0m 8ms/step - accuracy: 0.6853 - loss: 0.5821 - val_accuracy: 0.5975 - val_loss: 0.6514\n",
            "Epoch 38/50\n",
            "\u001b[1m38/38\u001b[0m \u001b[32m━━━━━━━━━━━━━━━━━━━━\u001b[0m\u001b[37m\u001b[0m \u001b[1m0s\u001b[0m 8ms/step - accuracy: 0.6630 - loss: 0.6034 - val_accuracy: 0.7225 - val_loss: 0.5396\n",
            "Epoch 39/50\n",
            "\u001b[1m38/38\u001b[0m \u001b[32m━━━━━━━━━━━━━━━━━━━━\u001b[0m\u001b[37m\u001b[0m \u001b[1m0s\u001b[0m 8ms/step - accuracy: 0.6875 - loss: 0.5830 - val_accuracy: 0.7300 - val_loss: 0.5405\n",
            "Epoch 40/50\n",
            "\u001b[1m38/38\u001b[0m \u001b[32m━━━━━━━━━━━━━━━━━━━━\u001b[0m\u001b[37m\u001b[0m \u001b[1m0s\u001b[0m 9ms/step - accuracy: 0.7025 - loss: 0.5622 - val_accuracy: 0.6725 - val_loss: 0.6718\n",
            "Epoch 41/50\n",
            "\u001b[1m38/38\u001b[0m \u001b[32m━━━━━━━━━━━━━━━━━━━━\u001b[0m\u001b[37m\u001b[0m \u001b[1m0s\u001b[0m 9ms/step - accuracy: 0.6899 - loss: 0.6038 - val_accuracy: 0.6875 - val_loss: 0.5580\n",
            "Epoch 42/50\n",
            "\u001b[1m38/38\u001b[0m \u001b[32m━━━━━━━━━━━━━━━━━━━━\u001b[0m\u001b[37m\u001b[0m \u001b[1m0s\u001b[0m 9ms/step - accuracy: 0.7041 - loss: 0.5886 - val_accuracy: 0.7200 - val_loss: 0.5405\n",
            "Epoch 43/50\n",
            "\u001b[1m38/38\u001b[0m \u001b[32m━━━━━━━━━━━━━━━━━━━━\u001b[0m\u001b[37m\u001b[0m \u001b[1m0s\u001b[0m 9ms/step - accuracy: 0.7261 - loss: 0.5373 - val_accuracy: 0.5900 - val_loss: 0.7410\n",
            "Epoch 44/50\n",
            "\u001b[1m38/38\u001b[0m \u001b[32m━━━━━━━━━━━━━━━━━━━━\u001b[0m\u001b[37m\u001b[0m \u001b[1m0s\u001b[0m 9ms/step - accuracy: 0.6577 - loss: 0.6571 - val_accuracy: 0.6875 - val_loss: 0.5951\n",
            "Epoch 45/50\n",
            "\u001b[1m38/38\u001b[0m \u001b[32m━━━━━━━━━━━━━━━━━━━━\u001b[0m\u001b[37m\u001b[0m \u001b[1m0s\u001b[0m 9ms/step - accuracy: 0.6958 - loss: 0.5805 - val_accuracy: 0.6475 - val_loss: 0.6439\n",
            "Epoch 46/50\n",
            "\u001b[1m38/38\u001b[0m \u001b[32m━━━━━━━━━━━━━━━━━━━━\u001b[0m\u001b[37m\u001b[0m \u001b[1m0s\u001b[0m 9ms/step - accuracy: 0.7188 - loss: 0.5986 - val_accuracy: 0.7100 - val_loss: 0.5484\n",
            "Epoch 47/50\n",
            "\u001b[1m38/38\u001b[0m \u001b[32m━━━━━━━━━━━━━━━━━━━━\u001b[0m\u001b[37m\u001b[0m \u001b[1m0s\u001b[0m 9ms/step - accuracy: 0.7293 - loss: 0.5534 - val_accuracy: 0.7250 - val_loss: 0.5334\n",
            "Epoch 48/50\n",
            "\u001b[1m38/38\u001b[0m \u001b[32m━━━━━━━━━━━━━━━━━━━━\u001b[0m\u001b[37m\u001b[0m \u001b[1m0s\u001b[0m 9ms/step - accuracy: 0.6436 - loss: 0.6684 - val_accuracy: 0.7125 - val_loss: 0.5448\n",
            "Epoch 49/50\n",
            "\u001b[1m38/38\u001b[0m \u001b[32m━━━━━━━━━━━━━━━━━━━━\u001b[0m\u001b[37m\u001b[0m \u001b[1m0s\u001b[0m 9ms/step - accuracy: 0.6785 - loss: 0.6115 - val_accuracy: 0.7225 - val_loss: 0.5363\n",
            "Epoch 50/50\n",
            "\u001b[1m38/38\u001b[0m \u001b[32m━━━━━━━━━━━━━━━━━━━━\u001b[0m\u001b[37m\u001b[0m \u001b[1m0s\u001b[0m 9ms/step - accuracy: 0.6992 - loss: 0.5769 - val_accuracy: 0.6775 - val_loss: 0.6396\n"
          ]
        }
      ],
      "source": [
        "# Fit the model using 50 epochs and the training data\n",
        "train_model = model.fit(X_train, y_train, epochs=50, validation_data=(X_test, y_test))"
      ]
    },
    {
      "cell_type": "markdown",
      "metadata": {
        "id": "RfHMPZVI6q61"
      },
      "source": [
        "### Step 3: Evaluate the model using the test data to determine the model’s loss and accuracy.\n"
      ]
    },
    {
      "cell_type": "code",
      "execution_count": 15,
      "metadata": {
        "colab": {
          "base_uri": "https://localhost:8080/"
        },
        "id": "5hfVADKo6q61",
        "outputId": "7df473ad-3301-4b49-e5c3-16e1687cc1cf"
      },
      "outputs": [
        {
          "name": "stdout",
          "output_type": "stream",
          "text": [
            "\u001b[1m13/13\u001b[0m \u001b[32m━━━━━━━━━━━━━━━━━━━━\u001b[0m\u001b[37m\u001b[0m \u001b[1m0s\u001b[0m 4ms/step - accuracy: 0.6877 - loss: 0.6506 \n",
            "Model Loss: 0.6396033763885498, Model Accuracy: 0.6775000095367432\n"
          ]
        }
      ],
      "source": [
        "# Evaluate the model loss and accuracy metrics using the evaluate method and the test data\n",
        "model_evaluation = model.evaluate(X_test, y_test)\n",
        "\n",
        "# Display the model loss and accuracy results\n",
        "print(f'Model Loss: {model_evaluation[0]}, Model Accuracy: {model_evaluation[1]}')\n"
      ]
    },
    {
      "cell_type": "markdown",
      "metadata": {
        "id": "jpAv0rXA6q61"
      },
      "source": [
        "### Step 4: Save and export your model to a keras file, and name the file `student_loans.keras`.\n"
      ]
    },
    {
      "cell_type": "code",
      "execution_count": 16,
      "metadata": {
        "id": "q0MetN0W6q61"
      },
      "outputs": [],
      "source": [
        "# Set the model's file path\n",
        "save_path = Path('saved_models/')\n",
        "\n",
        "# Export your model to a keras file\n",
        "model.save(f'{save_path}student_loans.keras')\n"
      ]
    },
    {
      "cell_type": "markdown",
      "metadata": {
        "id": "R1opCDdN6q61"
      },
      "source": [
        "---\n",
        "## Predict Loan Repayment Success by Using your Neural Network Model"
      ]
    },
    {
      "cell_type": "markdown",
      "metadata": {
        "id": "TfIfpeiy6q61"
      },
      "source": [
        "### Step 1: Reload your saved model."
      ]
    },
    {
      "cell_type": "code",
      "execution_count": 17,
      "metadata": {
        "id": "OCET2mvW6q61"
      },
      "outputs": [],
      "source": [
        "# Set the model's file path\n",
        "load_path = Path('saved_models/')\n",
        "\n",
        "# Load the model to a new object\n",
        "loaded_model = tf.keras.models.load_model(f'{load_path}student_loans.keras')"
      ]
    },
    {
      "cell_type": "markdown",
      "metadata": {
        "id": "rTPKooGw6q61"
      },
      "source": [
        "### Step 2: Make predictions on the testing data and save the predictions to a DataFrame."
      ]
    },
    {
      "cell_type": "code",
      "execution_count": 18,
      "metadata": {
        "colab": {
          "base_uri": "https://localhost:8080/"
        },
        "id": "Vet7qjgx6q62",
        "outputId": "0925af42-7e12-4978-8396-2a2c1580e1eb"
      },
      "outputs": [
        {
          "name": "stdout",
          "output_type": "stream",
          "text": [
            "\u001b[1m13/13\u001b[0m \u001b[32m━━━━━━━━━━━━━━━━━━━━\u001b[0m\u001b[37m\u001b[0m \u001b[1m0s\u001b[0m 3ms/step \n",
            "[[4.51384544e-01]\n",
            " [1.19404726e-01]\n",
            " [8.40840816e-01]\n",
            " [3.61806989e-01]\n",
            " [9.19760048e-01]\n",
            " [7.41057515e-01]\n",
            " [8.14095736e-01]\n",
            " [2.44644117e-02]\n",
            " [7.02492177e-01]\n",
            " [3.15731972e-01]\n",
            " [5.25850832e-01]\n",
            " [2.23023638e-01]\n",
            " [2.02422068e-01]\n",
            " [8.70455205e-01]\n",
            " [2.69916296e-01]\n",
            " [2.00155169e-01]\n",
            " [4.76053208e-01]\n",
            " [4.39533889e-01]\n",
            " [6.70956194e-01]\n",
            " [3.40198219e-01]\n",
            " [5.97345829e-01]\n",
            " [5.48098326e-01]\n",
            " [3.52395654e-01]\n",
            " [9.16227281e-01]\n",
            " [1.28149658e-01]\n",
            " [7.18368351e-01]\n",
            " [7.60254920e-01]\n",
            " [2.39702404e-01]\n",
            " [2.23321274e-01]\n",
            " [3.64792038e-04]\n",
            " [1.95004076e-01]\n",
            " [8.71723711e-01]\n",
            " [5.02497591e-02]\n",
            " [8.23939502e-01]\n",
            " [2.86050383e-02]\n",
            " [2.89470136e-01]\n",
            " [4.24659491e-01]\n",
            " [3.48325789e-01]\n",
            " [8.57651532e-01]\n",
            " [2.20240310e-01]\n",
            " [7.11885273e-01]\n",
            " [5.09903952e-03]\n",
            " [1.40921667e-01]\n",
            " [6.74106777e-01]\n",
            " [1.13181705e-02]\n",
            " [6.28225863e-01]\n",
            " [1.37246147e-01]\n",
            " [3.05816501e-01]\n",
            " [1.03712931e-01]\n",
            " [7.84946740e-01]\n",
            " [1.99907012e-02]\n",
            " [5.35791814e-01]\n",
            " [6.82854056e-01]\n",
            " [2.71309074e-03]\n",
            " [1.95998043e-01]\n",
            " [8.05730462e-01]\n",
            " [7.09855616e-01]\n",
            " [7.69061148e-01]\n",
            " [6.04283869e-01]\n",
            " [1.77438017e-02]\n",
            " [5.24608612e-01]\n",
            " [1.53517768e-01]\n",
            " [2.33844340e-01]\n",
            " [1.55241281e-01]\n",
            " [1.62696035e-03]\n",
            " [3.84594232e-01]\n",
            " [8.69519532e-01]\n",
            " [9.34099630e-02]\n",
            " [6.23102129e-01]\n",
            " [8.94765496e-01]\n",
            " [2.86050383e-02]\n",
            " [8.37650001e-01]\n",
            " [5.31799853e-01]\n",
            " [5.73550522e-01]\n",
            " [5.07839859e-01]\n",
            " [3.40846539e-01]\n",
            " [8.37669730e-01]\n",
            " [4.35146540e-01]\n",
            " [3.90595645e-02]\n",
            " [5.11538565e-01]\n",
            " [7.08104372e-01]\n",
            " [1.22994585e-02]\n",
            " [6.49986183e-03]\n",
            " [3.68129253e-01]\n",
            " [3.71089399e-01]\n",
            " [1.18999742e-02]\n",
            " [2.48391293e-02]\n",
            " [8.13696980e-01]\n",
            " [4.17843670e-01]\n",
            " [6.23931408e-01]\n",
            " [6.24674298e-02]\n",
            " [6.79579556e-01]\n",
            " [1.08158961e-01]\n",
            " [7.00707734e-01]\n",
            " [8.25579882e-01]\n",
            " [2.21615553e-01]\n",
            " [8.88477266e-01]\n",
            " [3.99883419e-01]\n",
            " [1.69288903e-01]\n",
            " [3.87891352e-01]\n",
            " [3.47503245e-01]\n",
            " [5.43593526e-01]\n",
            " [1.59103796e-01]\n",
            " [1.39143076e-02]\n",
            " [2.98251361e-02]\n",
            " [2.17738286e-01]\n",
            " [4.57334608e-01]\n",
            " [1.88493028e-01]\n",
            " [5.36883473e-01]\n",
            " [5.62453009e-02]\n",
            " [9.38960671e-01]\n",
            " [3.88197005e-01]\n",
            " [5.98891199e-01]\n",
            " [3.20760995e-01]\n",
            " [2.85617620e-01]\n",
            " [9.21531081e-01]\n",
            " [1.15368985e-01]\n",
            " [2.33229678e-02]\n",
            " [5.21604605e-02]\n",
            " [9.96519253e-02]\n",
            " [1.41016677e-01]\n",
            " [9.25633550e-01]\n",
            " [5.27708232e-01]\n",
            " [2.38078386e-01]\n",
            " [3.04445297e-01]\n",
            " [2.36346677e-01]\n",
            " [4.37618196e-01]\n",
            " [5.68950251e-02]\n",
            " [8.57044518e-01]\n",
            " [5.31861722e-01]\n",
            " [6.53582752e-01]\n",
            " [8.56018737e-02]\n",
            " [5.70732534e-01]\n",
            " [1.02810785e-02]\n",
            " [6.50435805e-01]\n",
            " [3.67287815e-01]\n",
            " [9.52970982e-02]\n",
            " [9.30393279e-01]\n",
            " [2.65051991e-01]\n",
            " [1.66351050e-01]\n",
            " [1.33754179e-01]\n",
            " [3.59145045e-01]\n",
            " [3.57849926e-01]\n",
            " [4.49007809e-01]\n",
            " [6.60842299e-01]\n",
            " [7.06661284e-01]\n",
            " [5.71509719e-01]\n",
            " [3.00995987e-02]\n",
            " [2.61331826e-01]\n",
            " [4.47538704e-01]\n",
            " [4.72048044e-01]\n",
            " [7.11629570e-01]\n",
            " [9.70651507e-02]\n",
            " [2.10036173e-01]\n",
            " [6.14439726e-01]\n",
            " [8.23437095e-01]\n",
            " [8.40970993e-01]\n",
            " [8.08040738e-01]\n",
            " [8.22470427e-01]\n",
            " [3.01452667e-01]\n",
            " [8.09842527e-01]\n",
            " [7.20535159e-01]\n",
            " [1.82705671e-01]\n",
            " [2.59931870e-02]\n",
            " [7.77199626e-01]\n",
            " [6.06435359e-01]\n",
            " [3.99443895e-01]\n",
            " [1.37579683e-02]\n",
            " [6.46567792e-02]\n",
            " [7.22298622e-01]\n",
            " [2.07241952e-01]\n",
            " [3.16674173e-01]\n",
            " [3.98079976e-02]\n",
            " [2.40511328e-01]\n",
            " [8.73486400e-01]\n",
            " [3.37971061e-01]\n",
            " [2.17609748e-01]\n",
            " [7.26359338e-02]\n",
            " [9.62221846e-02]\n",
            " [2.21615553e-01]\n",
            " [4.29896742e-01]\n",
            " [8.52374434e-01]\n",
            " [3.36363703e-01]\n",
            " [5.21297529e-02]\n",
            " [6.89654827e-01]\n",
            " [4.61785555e-01]\n",
            " [8.53201389e-01]\n",
            " [2.34457344e-01]\n",
            " [3.30587447e-01]\n",
            " [2.23469231e-02]\n",
            " [6.88536018e-02]\n",
            " [3.94240767e-01]\n",
            " [1.81688949e-01]\n",
            " [3.95345777e-01]\n",
            " [4.91724193e-01]\n",
            " [3.05536598e-01]\n",
            " [3.90438139e-01]\n",
            " [1.99798077e-01]\n",
            " [4.72929150e-01]\n",
            " [2.59091228e-01]\n",
            " [8.44111085e-01]\n",
            " [4.36992347e-01]\n",
            " [8.66674662e-01]\n",
            " [4.92951795e-02]\n",
            " [8.63488615e-01]\n",
            " [6.48738384e-01]\n",
            " [3.27376574e-01]\n",
            " [9.13233124e-03]\n",
            " [6.91799998e-01]\n",
            " [5.42744398e-01]\n",
            " [7.44015500e-02]\n",
            " [8.11553478e-01]\n",
            " [1.59103796e-01]\n",
            " [8.13629031e-01]\n",
            " [4.94984016e-02]\n",
            " [4.18295711e-02]\n",
            " [2.50591189e-01]\n",
            " [1.74322054e-02]\n",
            " [6.49450183e-01]\n",
            " [3.44429642e-01]\n",
            " [4.16065335e-01]\n",
            " [3.17098707e-01]\n",
            " [4.23511155e-02]\n",
            " [6.76867515e-02]\n",
            " [5.88795125e-01]\n",
            " [4.32270736e-01]\n",
            " [2.83842236e-01]\n",
            " [3.56040090e-01]\n",
            " [8.68906736e-01]\n",
            " [3.75919700e-01]\n",
            " [4.06050324e-01]\n",
            " [1.38553441e-01]\n",
            " [7.07717180e-01]\n",
            " [7.65543818e-01]\n",
            " [3.40737253e-01]\n",
            " [6.97383583e-02]\n",
            " [6.79755032e-01]\n",
            " [6.96238577e-02]\n",
            " [5.73642552e-01]\n",
            " [4.76966381e-01]\n",
            " [6.82284355e-01]\n",
            " [7.52393544e-01]\n",
            " [4.30245966e-01]\n",
            " [4.40398932e-01]\n",
            " [2.77428031e-01]\n",
            " [9.04314518e-01]\n",
            " [2.99116552e-01]\n",
            " [9.10353512e-02]\n",
            " [1.42897516e-01]\n",
            " [2.54425019e-01]\n",
            " [3.76826748e-02]\n",
            " [1.41486347e-01]\n",
            " [7.44358242e-01]\n",
            " [5.57469130e-01]\n",
            " [6.35516584e-01]\n",
            " [7.66194761e-02]\n",
            " [5.78301027e-02]\n",
            " [3.09734382e-02]\n",
            " [1.14523076e-01]\n",
            " [7.17453718e-01]\n",
            " [6.93508685e-01]\n",
            " [4.53759819e-01]\n",
            " [5.37149370e-01]\n",
            " [1.85738295e-01]\n",
            " [1.26594022e-01]\n",
            " [2.61331826e-01]\n",
            " [4.55865890e-01]\n",
            " [2.48574894e-02]\n",
            " [2.67333649e-02]\n",
            " [7.28213072e-01]\n",
            " [4.90436822e-01]\n",
            " [2.98663288e-01]\n",
            " [1.57423764e-02]\n",
            " [8.80497515e-01]\n",
            " [5.30460961e-02]\n",
            " [4.17044461e-01]\n",
            " [2.37428978e-01]\n",
            " [3.16674173e-01]\n",
            " [2.22122192e-01]\n",
            " [1.57611713e-01]\n",
            " [9.27722096e-01]\n",
            " [6.63410544e-01]\n",
            " [4.92210507e-01]\n",
            " [5.51641034e-03]\n",
            " [8.91531557e-02]\n",
            " [7.23650932e-01]\n",
            " [4.29297447e-01]\n",
            " [4.48786318e-02]\n",
            " [1.58568874e-01]\n",
            " [3.65485549e-01]\n",
            " [1.75596848e-01]\n",
            " [4.76053208e-01]\n",
            " [4.60169792e-01]\n",
            " [2.80718714e-01]\n",
            " [7.11030424e-01]\n",
            " [8.44943285e-01]\n",
            " [2.81496979e-02]\n",
            " [7.39761591e-01]\n",
            " [3.24341767e-02]\n",
            " [6.81798235e-02]\n",
            " [3.46312344e-01]\n",
            " [7.44667113e-01]\n",
            " [7.61602214e-03]\n",
            " [4.13842052e-01]\n",
            " [4.38743830e-01]\n",
            " [3.46017748e-01]\n",
            " [1.47596737e-02]\n",
            " [7.49117136e-01]\n",
            " [5.90379238e-01]\n",
            " [1.10768909e-02]\n",
            " [5.29150605e-01]\n",
            " [4.41723198e-01]\n",
            " [4.55414861e-01]\n",
            " [6.41161263e-01]\n",
            " [5.16481102e-01]\n",
            " [3.90777975e-01]\n",
            " [2.67271381e-02]\n",
            " [2.33287558e-01]\n",
            " [8.39234114e-01]\n",
            " [6.79755032e-01]\n",
            " [2.64787525e-01]\n",
            " [6.87534153e-01]\n",
            " [8.36681485e-01]\n",
            " [3.40891331e-02]\n",
            " [3.05536598e-01]\n",
            " [1.51312277e-01]\n",
            " [1.70045927e-01]\n",
            " [9.01003361e-01]\n",
            " [5.52409947e-01]\n",
            " [2.03254744e-01]\n",
            " [1.66096345e-01]\n",
            " [2.86620371e-02]\n",
            " [2.24256024e-01]\n",
            " [3.90255660e-01]\n",
            " [3.36373001e-01]\n",
            " [4.28626873e-02]\n",
            " [7.82931626e-01]\n",
            " [8.13629031e-01]\n",
            " [6.20429963e-02]\n",
            " [4.37674791e-01]\n",
            " [1.63032293e-01]\n",
            " [4.38920438e-01]\n",
            " [1.17591925e-01]\n",
            " [3.28865260e-01]\n",
            " [3.57570350e-01]\n",
            " [9.57311332e-01]\n",
            " [6.87670410e-01]\n",
            " [3.73213366e-02]\n",
            " [1.78740665e-01]\n",
            " [3.37672740e-01]\n",
            " [8.11553478e-01]\n",
            " [8.54631484e-01]\n",
            " [4.73384857e-01]\n",
            " [9.02362704e-01]\n",
            " [2.49219894e-01]\n",
            " [3.38079870e-01]\n",
            " [8.93547893e-01]\n",
            " [8.70455205e-01]\n",
            " [9.52970982e-02]\n",
            " [5.57883503e-03]\n",
            " [5.28569520e-02]\n",
            " [5.35824299e-01]\n",
            " [1.77013263e-01]\n",
            " [9.32844102e-01]\n",
            " [4.01572287e-01]\n",
            " [1.33739695e-01]\n",
            " [1.67761594e-01]\n",
            " [2.70601213e-01]\n",
            " [3.44249099e-01]\n",
            " [6.97383583e-02]\n",
            " [3.09230149e-01]\n",
            " [4.24839884e-01]\n",
            " [2.01048374e-01]\n",
            " [4.98537362e-01]\n",
            " [2.62686163e-01]\n",
            " [2.32962504e-01]\n",
            " [9.37320590e-01]\n",
            " [9.23746467e-01]\n",
            " [4.18295711e-02]\n",
            " [7.69629180e-01]\n",
            " [8.25842619e-01]\n",
            " [3.72418910e-01]\n",
            " [7.67703533e-01]\n",
            " [5.03793001e-01]\n",
            " [5.61868489e-01]\n",
            " [8.77364099e-01]\n",
            " [3.97262760e-02]\n",
            " [3.54300708e-01]\n",
            " [6.35456204e-01]\n",
            " [3.66625786e-01]\n",
            " [1.20294914e-01]\n",
            " [8.25934410e-02]\n",
            " [2.26949915e-01]\n",
            " [7.09831238e-01]\n",
            " [2.60707676e-01]\n",
            " [6.90878808e-01]\n",
            " [4.17843670e-01]\n",
            " [7.07717180e-01]\n",
            " [1.04198620e-01]\n",
            " [3.39763433e-01]]\n"
          ]
        }
      ],
      "source": [
        "# Make predictions with the test data\n",
        "predictions = loaded_model.predict(X_test)\n",
        "\n",
        "# Display a sample of the predictions\n",
        "print(predictions)"
      ]
    },
    {
      "cell_type": "code",
      "execution_count": 19,
      "metadata": {
        "colab": {
          "base_uri": "https://localhost:8080/",
          "height": 424
        },
        "id": "87o8exFPhjfl",
        "outputId": "da5339c5-cea7-43e4-ec22-e168ea16dfa2"
      },
      "outputs": [],
      "source": [
        "# Save the predictions to a DataFrame and round the predictions to binary results\n",
        "\n",
        "results = (pd.DataFrame(predictions, columns=[\"predictions\"])>= 0.5).astype(int)"
      ]
    },
    {
      "cell_type": "markdown",
      "metadata": {
        "id": "oxxLwycg6q62"
      },
      "source": [
        "### Step 4: Display a classification report with the y test data and predictions"
      ]
    },
    {
      "cell_type": "code",
      "execution_count": 20,
      "metadata": {
        "colab": {
          "base_uri": "https://localhost:8080/"
        },
        "id": "UTxYZibW6q67",
        "outputId": "f341b396-9b4c-478c-dba8-f6d904ba10e3"
      },
      "outputs": [
        {
          "name": "stdout",
          "output_type": "stream",
          "text": [
            "              precision    recall  f1-score   support\n",
            "\n",
            "           0       0.61      0.85      0.71       188\n",
            "           1       0.79      0.53      0.63       212\n",
            "\n",
            "    accuracy                           0.68       400\n",
            "   macro avg       0.70      0.69      0.67       400\n",
            "weighted avg       0.71      0.68      0.67       400\n",
            "\n"
          ]
        }
      ],
      "source": [
        "# Print the classification report with the y test data and predictions\n",
        "print(classification_report(y_test, results))"
      ]
    },
    {
      "cell_type": "markdown",
      "metadata": {
        "id": "8Aaof1tBtcp6"
      },
      "source": [
        "---\n",
        "## Discuss creating a recommendation system for student loans"
      ]
    },
    {
      "cell_type": "markdown",
      "metadata": {
        "id": "_CC8cNpNtcp6"
      },
      "source": [
        "Briefly answer the following questions in the space provided:\n",
        "\n",
        "1. Describe the data that you would need to collect to build a recommendation system to recommend student loan options for students. Explain why this data would be relevant and appropriate.\n",
        "\n",
        "2. Based on the data you chose to use in this recommendation system, would your model be using collaborative filtering, content-based filtering, or context-based filtering? Justify why the data you selected would be suitable for your choice of filtering method.\n",
        "\n",
        "3. Describe two real-world challenges that you would take into consideration while building a recommendation system for student loans. Explain why these challenges would be of concern for a student loan recommendation system."
      ]
    },
    {
      "cell_type": "markdown",
      "metadata": {
        "id": "5KqIT8kYtcp6"
      },
      "source": [
        "**1. Describe the data that you would need to collect to build a recommendation system to recommend student loan options for students. Explain why this data would be relevant and appropriate.**\n",
        "\t - To build a real-world recommendation system, the dataset would need to include additional features that capture both financial and behavioral factors, such as the following…\n",
        "\t CSV data columns: [\n",
        "\t\tstudentId (Ensures each record is unique and tied to an individual),\n",
        "\t\tcredit_score (FICO (Represents the borrower’s creditworthiness at the time of loan creation)),\n",
        "\t\tloan_holder (Identifies the institution managing the loan, which could influence repayment terms),\n",
        "\t\tdate_of_loan_creation (Helps track loan age and repayment progress over time),\n",
        "\t\tlife_span_of_loan (Defines the agreed repayment period, critical for evaluating repayment patterns),\n",
        "\t\toriginal_loan_total (Indicates the initial loan size, a key factor in affordability assessments),\n",
        "\t\tpayment (timeseries (Captures repayment behavior over time, including on-time, late, or missed payments)),\n",
        "\t\tremaining_loan_total (Reflects the borrower’s current financial obligation and progress toward repayment),\n",
        "\t\tdebt_to_income_ratio (Provides a clearer picture of financial obligations),\n",
        "\t\tSTEM_status (Indicates earning potential based on degree or major)\n",
        "\t ]\n",
        "\n",
        "**2. Based on the data you chose to use in this recommendation system, would your model be using collaborative filtering, content-based filtering, or context-based filtering? Justify why the data you selected would be suitable for your choice of filtering method.**\n",
        "\t - With the data I have chosen, I would use a content-based filter. By leveraging individual students’ attributes, such as credit score, debt-to-income ratio, and repayment history, patterns can be identified to make predictions for a large number of students simultaneously. This approach allows the model to provide tailored recommendations based on each student’s unique financial and behavioral characteristics.\n",
        "\n",
        "\t - Additionally, this dataset adds greater flexibility for both macro (aggregate trends across many students) and micro (predictions for a single student) applications. The richness of the features ensures accurate and scalable recommendations, making content-based filtering the ideal choice for this system.\n",
        "\n",
        "\n",
        "**3. Describe two real-world challenges that you would take into consideration while building a recommendation system for student loans. Explain why these challenges would be of concern for a student loan recommendation system.**\n",
        "\t- 1.\tEthical and Fairness Concerns:\n",
        "\t\t•\tA recommendation system could unintentionally reinforce biases present in the data. For example, certain demographic groups might have lower credit scores due to systemic inequalities, leading to disproportionately unfavorable loan recommendations. Ensuring fairness and avoiding discriminatory practices is critical, especially in sensitive financial domains like student loans.\n",
        "\t\t\n",
        "\t- 2.\tEconomic and External Factors:\n",
        "\t\t•\tEven with a robust dataset, external factors such as changes in the job market, inflation, or economic downturns could impact a student’s ability to repay loans. These variables are difficult to predict and model, but they could significantly influence the recommendations and repayment predictions made by the system.\n"
      ]
    },
    {
      "cell_type": "markdown",
      "metadata": {},
      "source": []
    }
  ],
  "metadata": {
    "colab": {
      "provenance": []
    },
    "kernelspec": {
      "display_name": "neural_network",
      "language": "python",
      "name": "python3"
    },
    "language_info": {
      "codemirror_mode": {
        "name": "ipython",
        "version": 3
      },
      "file_extension": ".py",
      "mimetype": "text/x-python",
      "name": "python",
      "nbconvert_exporter": "python",
      "pygments_lexer": "ipython3",
      "version": "3.9.15"
    }
  },
  "nbformat": 4,
  "nbformat_minor": 0
}
